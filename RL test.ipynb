{
 "cells": [
  {
   "cell_type": "code",
   "execution_count": 1,
   "id": "2f137244",
   "metadata": {},
   "outputs": [],
   "source": [
    "from gym import Env\n",
    "from gym.envs.registration import EnvSpec\n",
    "import numpy as np\n",
    "from gym.spaces import MultiDiscrete,Box\n",
    "from graph_tool.all import *\n",
    "from stable_baselines3.common.evaluation import evaluate_policy\n",
    "from stable_baselines3.common.monitor import Monitor\n",
    "from makegraph import *\n",
    "import matplotlib.pyplot as plt\n",
    "import matplotlib as mpl"
   ]
  },
  {
   "cell_type": "code",
   "execution_count": 2,
   "id": "2c673b75",
   "metadata": {},
   "outputs": [],
   "source": [
    "def simulatepandemic(self,actions):\n",
    "    action = np.divide(actions,np.sum(actions)) #relative availability of vaccine is calculated\n",
    "    update_state(self.g,action)\n",
    "    erate = extract_economy(self.g)\n",
    "    self.state = graph_to_matrix(self.g)\n",
    "    self.timestep += 1\n",
    "    \n",
    "    return self.state\n",
    "\n",
    "def initializepandemic(self):\n",
    "    self.g = make_graph(self.size,self.distribution)\n",
    "    self.state = graph_to_matrix(self.g)\n",
    "    return self.state"
   ]
  },
  {
   "cell_type": "code",
   "execution_count": 3,
   "id": "08149c11",
   "metadata": {},
   "outputs": [],
   "source": [
    "#the class is needed if we want to sample more frequently\n",
    "from stable_baselines3.common.callbacks import BaseCallback\n",
    "'''\n",
    "https://github.com/DLR-RM/stable-baselines3/issues/309\n",
    "\n",
    "^^^^^^ this was very helpful ^^^^^^\n",
    "'''\n",
    "class TensorboardCallback(BaseCallback):\n",
    "    \"\"\"\n",
    "    Custom callback for plotting additional values in tensorboard.\n",
    "    \"\"\"\n",
    "\n",
    "    def __init__(self, verbose=1):\n",
    "        super(TensorboardCallback, self).__init__(verbose)\n",
    "        self.cum_rew_1 = 0\n",
    "        #self.rew_1 = 0\n",
    "        \n",
    "    def _on_rollout_end(self) -> None:\n",
    "        self.logger.record(\"rollout/cum_rew_1\", self.cum_rew_1)\n",
    "        #self.logger.record(\"rollout/rew_1\", self.rew_1)\n",
    "        # reset var once recorded\n",
    "        self.cum_rew_1 = 0\n",
    "        self.rew_1 = 0\n",
    "        \n",
    "\n",
    "    def _on_step(self) -> bool:\n",
    "        # Log scalar value (here a random variable)\n",
    "        #value = np.random.random()\n",
    "        #self.logger.record('random_value', value)\n",
    "        \n",
    "        #self.logger.dump(self.num_timesteps)\n",
    "        self.cum_rew_1 += self.training_env.get_attr(\"reward\")[0]\n",
    "        #self.rew_1 = self.training_env.get_attr(\"reward_1\")[0]\n",
    "        return True"
   ]
  },
  {
   "cell_type": "code",
   "execution_count": 4,
   "id": "1b6caeb7",
   "metadata": {},
   "outputs": [],
   "source": [
    "\n",
    "class PanEnv(Env):\n",
    "    def __init__(self,size,distribution):\n",
    "        self.size = size #population size\n",
    "        self.spec = EnvSpec('GymEnv-v0')\n",
    "        self.action_space = MultiDiscrete(nvec=[10,10,10,10,10,10,10,10,10,10,10,10,10,10,10,10,10,10,10,10])\n",
    "        self.observation_space = Box(low=-np.inf,high=np.inf,shape=[self.size,7])\n",
    "        \n",
    "        \n",
    "        self.distribution = distribution #age distribution, country name as string\n",
    "        self.g = make_graph(self.size,self.distribution)\n",
    "                \n",
    "        #state observation as matrix\n",
    "        self.state = graph_to_matrix(self.g)\n",
    "        \n",
    "        self.timestep = 1\n",
    "    def step(self,actions):\n",
    "    \n",
    "        \n",
    "        state = simulatepandemic(self,actions)\n",
    "        E_t = np.sum(state[:,0])+np.sum(state[:,2])+np.sum(state[:,3])\n",
    "        #observation (object): agent's observation of the current environment\n",
    "        #r ans s taken from nature paper\n",
    "        r = 8\n",
    "        s = 5\n",
    "        \n",
    "        total_population = self.size\n",
    "        \n",
    "        active_cases = np.sum(state[:,1])+np.sum(state[:,4])\n",
    "        #A_t and D_t from nature paper\n",
    "        \n",
    "        A_t = (active_cases/total_population) * 100\n",
    "        \n",
    "        D_t = np.sum(state[:,5])/total_population\n",
    "        #self.reward_1 =  E_t * np.exp(-r * A_t) - s * D_t\n",
    "        \n",
    "        reward = E_t/total_population\n",
    "        \n",
    "       \n",
    "        #print(reward)\n",
    "        #reward (float) : amount of reward returned after previous action\n",
    "        #negative reward: punishment > change weights a lot, push away from causing weights, positive rewards pull\n",
    "        #do reward compared to reward from previous step\n",
    "        #naive example: reward = -sum(infected) > we want a reward where the cumulative sum of infections until end\n",
    "        #is minimized\n",
    "        #exp. solution: store informatiop_n in self, summed infections, normalized by time\n",
    "        done = False\n",
    "        if((self.timestep > 19) or np.sum(self.state[:,1])==0):\n",
    "            done = True\n",
    "        #done (bool): episode is done after 20 timesteps or when there are no longer infected agents\n",
    "        info = {}\n",
    "        #info (dict): contains auxiliary diagnostic information (helpful for debugging, and sometimes learning)'''\n",
    "        return state, reward, done, info\n",
    "    def reset(self):\n",
    "        #returns initial state\n",
    "        self.timestep = 0\n",
    "        self.state = initializepandemic(self)\n",
    "        return self.state"
   ]
  },
  {
   "cell_type": "code",
   "execution_count": 5,
   "id": "749bec03",
   "metadata": {},
   "outputs": [],
   "source": [
    "from stable_baselines3.common.env_checker import check_env\n",
    "#check_env(Env)"
   ]
  },
  {
   "cell_type": "code",
   "execution_count": 6,
   "id": "e73f0c02",
   "metadata": {},
   "outputs": [],
   "source": [
    "#matrix representation:\n",
    "#[S, I, R, Sv, Iv, D]"
   ]
  },
  {
   "cell_type": "code",
   "execution_count": 7,
   "id": "a782f1a1",
   "metadata": {},
   "outputs": [],
   "source": [
    "env = PanEnv(size=1000,distribution='Japan')\n",
    "x2=env.reset()"
   ]
  },
  {
   "cell_type": "code",
   "execution_count": 8,
   "id": "f055f364",
   "metadata": {},
   "outputs": [
    {
     "data": {
      "text/plain": [
       "False"
      ]
     },
     "execution_count": 8,
     "metadata": {},
     "output_type": "execute_result"
    }
   ],
   "source": [
    "x1=env.reset()\n",
    "np.all(x1==x2)"
   ]
  },
  {
   "cell_type": "code",
   "execution_count": 9,
   "id": "a50523ac",
   "metadata": {},
   "outputs": [
    {
     "data": {
      "text/plain": [
       "(array([[1., 0., 0., ..., 0., 0., 0.],\n",
       "        [1., 0., 0., ..., 0., 0., 0.],\n",
       "        [1., 0., 0., ..., 0., 0., 0.],\n",
       "        ...,\n",
       "        [1., 0., 0., ..., 0., 0., 0.],\n",
       "        [1., 0., 0., ..., 0., 0., 0.],\n",
       "        [1., 0., 0., ..., 0., 0., 0.]]),\n",
       " 0.986,\n",
       " False,\n",
       " {})"
      ]
     },
     "execution_count": 9,
     "metadata": {},
     "output_type": "execute_result"
    }
   ],
   "source": [
    "env.step(np.random.rand(20))"
   ]
  },
  {
   "cell_type": "code",
   "execution_count": 10,
   "id": "6df66463",
   "metadata": {},
   "outputs": [
    {
     "data": {
      "text/plain": [
       "array([[1., 0., 0., ..., 0., 0., 0.],\n",
       "       [1., 0., 0., ..., 0., 0., 0.],\n",
       "       [1., 0., 0., ..., 0., 0., 0.],\n",
       "       ...,\n",
       "       [1., 0., 0., ..., 0., 0., 0.],\n",
       "       [1., 0., 0., ..., 0., 0., 0.],\n",
       "       [1., 0., 0., ..., 0., 0., 0.]])"
      ]
     },
     "execution_count": 10,
     "metadata": {},
     "output_type": "execute_result"
    }
   ],
   "source": [
    "x2"
   ]
  },
  {
   "cell_type": "code",
   "execution_count": 11,
   "id": "bd582854",
   "metadata": {},
   "outputs": [],
   "source": [
    "actions = np.full(20,1)"
   ]
  },
  {
   "cell_type": "code",
   "execution_count": 12,
   "id": "2e6265d2",
   "metadata": {},
   "outputs": [
    {
     "data": {
      "text/plain": [
       "(array([[1., 0., 0., ..., 0., 0., 0.],\n",
       "        [1., 0., 0., ..., 0., 0., 0.],\n",
       "        [1., 0., 0., ..., 0., 0., 0.],\n",
       "        ...,\n",
       "        [1., 0., 0., ..., 0., 0., 0.],\n",
       "        [1., 0., 0., ..., 0., 0., 0.],\n",
       "        [1., 0., 0., ..., 0., 0., 0.]]),\n",
       " 0.925,\n",
       " False,\n",
       " {})"
      ]
     },
     "execution_count": 12,
     "metadata": {},
     "output_type": "execute_result"
    }
   ],
   "source": [
    "env.step(actions)"
   ]
  },
  {
   "cell_type": "code",
   "execution_count": 13,
   "id": "5c81f468",
   "metadata": {},
   "outputs": [
    {
     "name": "stdout",
     "output_type": "stream",
     "text": [
      "812.0 72.0 11.0 102.0 0.0\n"
     ]
    }
   ],
   "source": [
    "print(np.sum(env.state[:,0]),np.sum(env.state[:,1]),np.sum(env.state[:,2]),np.sum(env.state[:,3]),np.sum(env.state[:,4]),)"
   ]
  },
  {
   "cell_type": "code",
   "execution_count": 14,
   "id": "a60068c4",
   "metadata": {},
   "outputs": [
    {
     "name": "stdout",
     "output_type": "stream",
     "text": [
      "Using cpu device\n",
      "Wrapping the env in a DummyVecEnv.\n"
     ]
    }
   ],
   "source": [
    "from stable_baselines3 import PPO\n",
    "from stable_baselines3.common.env_util import make_vec_env\n",
    "from stable_baselines3.common.vec_env import DummyVecEnv, SubprocVecEnv\n",
    "\n",
    "#tensorflow for graphs\n",
    "import tensorflow as tf\n",
    "from stable_baselines3.common.evaluation import evaluate_policy\n",
    "env = PanEnv(size=100,distribution='Japan')\n",
    "log_dir = \"./gym/\"\n",
    "env = Monitor(env,log_dir)\n",
    "model = PPO(\"MlpPolicy\",env,verbose=1)\n",
    "mean_reward, std_reward = evaluate_policy(model, env, n_eval_episodes=100)"
   ]
  },
  {
   "cell_type": "code",
   "execution_count": 15,
   "id": "d7f185ad",
   "metadata": {},
   "outputs": [
    {
     "name": "stdout",
     "output_type": "stream",
     "text": [
      "mean_reward:3.41 +/- 2.10\n"
     ]
    }
   ],
   "source": [
    "print(f\"mean_reward:{mean_reward:.2f} +/- {std_reward:.2f}\")"
   ]
  },
  {
   "cell_type": "code",
   "execution_count": 16,
   "id": "2cdbe112",
   "metadata": {},
   "outputs": [],
   "source": [
    "\n",
    "# Parallel environments\n",
    "\n",
    "env = DummyVecEnv([lambda: Monitor(PanEnv(size=100,distribution='Japan'),log_dir)])"
   ]
  },
  {
   "cell_type": "code",
   "execution_count": null,
   "id": "2fba4bd3",
   "metadata": {},
   "outputs": [],
   "source": []
  },
  {
   "cell_type": "code",
   "execution_count": 17,
   "id": "66b27961",
   "metadata": {},
   "outputs": [
    {
     "name": "stdout",
     "output_type": "stream",
     "text": [
      "Using cpu device\n",
      "Logging to ./ppo_name_tensorboard/first_run_69\n",
      "---------------------------------\n",
      "| rollout/           |          |\n",
      "|    ep_len_mean     | 3.88     |\n",
      "|    ep_rew_mean     | 3.31     |\n",
      "| time/              |          |\n",
      "|    fps             | 116      |\n",
      "|    iterations      | 1        |\n",
      "|    time_elapsed    | 17       |\n",
      "|    total_timesteps | 2048     |\n",
      "---------------------------------\n",
      "-----------------------------------------\n",
      "| rollout/                |             |\n",
      "|    ep_len_mean          | 4.02        |\n",
      "|    ep_rew_mean          | 3.42        |\n",
      "| time/                   |             |\n",
      "|    fps                  | 108         |\n",
      "|    iterations           | 2           |\n",
      "|    time_elapsed         | 37          |\n",
      "|    total_timesteps      | 4096        |\n",
      "| train/                  |             |\n",
      "|    approx_kl            | 0.046138756 |\n",
      "|    clip_fraction        | 0.498       |\n",
      "|    clip_range           | 0.2         |\n",
      "|    entropy_loss         | -46         |\n",
      "|    explained_variance   | 0.133       |\n",
      "|    learning_rate        | 0.0003      |\n",
      "|    loss                 | 0.142       |\n",
      "|    n_updates            | 10          |\n",
      "|    policy_gradient_loss | -0.118      |\n",
      "|    value_loss           | 1.03        |\n",
      "-----------------------------------------\n",
      "-----------------------------------------\n",
      "| rollout/                |             |\n",
      "|    ep_len_mean          | 4.24        |\n",
      "|    ep_rew_mean          | 3.61        |\n",
      "| time/                   |             |\n",
      "|    fps                  | 106         |\n",
      "|    iterations           | 3           |\n",
      "|    time_elapsed         | 57          |\n",
      "|    total_timesteps      | 6144        |\n",
      "| train/                  |             |\n",
      "|    approx_kl            | 0.050145783 |\n",
      "|    clip_fraction        | 0.523       |\n",
      "|    clip_range           | 0.2         |\n",
      "|    entropy_loss         | -46         |\n",
      "|    explained_variance   | 0.335       |\n",
      "|    learning_rate        | 0.0003      |\n",
      "|    loss                 | 0.472       |\n",
      "|    n_updates            | 20          |\n",
      "|    policy_gradient_loss | -0.115      |\n",
      "|    value_loss           | 1.1         |\n",
      "-----------------------------------------\n",
      "----------------------------------------\n",
      "| rollout/                |            |\n",
      "|    ep_len_mean          | 3.7        |\n",
      "|    ep_rew_mean          | 3.18       |\n",
      "| time/                   |            |\n",
      "|    fps                  | 104        |\n",
      "|    iterations           | 4          |\n",
      "|    time_elapsed         | 78         |\n",
      "|    total_timesteps      | 8192       |\n",
      "| train/                  |            |\n",
      "|    approx_kl            | 0.05624503 |\n",
      "|    clip_fraction        | 0.541      |\n",
      "|    clip_range           | 0.2        |\n",
      "|    entropy_loss         | -46        |\n",
      "|    explained_variance   | 0.312      |\n",
      "|    learning_rate        | 0.0003     |\n",
      "|    loss                 | 0.188      |\n",
      "|    n_updates            | 30         |\n",
      "|    policy_gradient_loss | -0.113     |\n",
      "|    value_loss           | 1.13       |\n",
      "----------------------------------------\n",
      "---------------------------------------\n",
      "| rollout/                |           |\n",
      "|    ep_len_mean          | 3.69      |\n",
      "|    ep_rew_mean          | 3.13      |\n",
      "| time/                   |           |\n",
      "|    fps                  | 103       |\n",
      "|    iterations           | 5         |\n",
      "|    time_elapsed         | 98        |\n",
      "|    total_timesteps      | 10240     |\n",
      "| train/                  |           |\n",
      "|    approx_kl            | 0.0588451 |\n",
      "|    clip_fraction        | 0.565     |\n",
      "|    clip_range           | 0.2       |\n",
      "|    entropy_loss         | -46       |\n",
      "|    explained_variance   | 0.285     |\n",
      "|    learning_rate        | 0.0003    |\n",
      "|    loss                 | 0.416     |\n",
      "|    n_updates            | 40        |\n",
      "|    policy_gradient_loss | -0.113    |\n",
      "|    value_loss           | 1.23      |\n",
      "---------------------------------------\n",
      "----------------------------------------\n",
      "| rollout/                |            |\n",
      "|    ep_len_mean          | 4.16       |\n",
      "|    ep_rew_mean          | 3.51       |\n",
      "| time/                   |            |\n",
      "|    fps                  | 102        |\n",
      "|    iterations           | 6          |\n",
      "|    time_elapsed         | 119        |\n",
      "|    total_timesteps      | 12288      |\n",
      "| train/                  |            |\n",
      "|    approx_kl            | 0.06424968 |\n",
      "|    clip_fraction        | 0.57       |\n",
      "|    clip_range           | 0.2        |\n",
      "|    entropy_loss         | -46        |\n",
      "|    explained_variance   | 0.327      |\n",
      "|    learning_rate        | 0.0003     |\n",
      "|    loss                 | 0.547      |\n",
      "|    n_updates            | 50         |\n",
      "|    policy_gradient_loss | -0.113     |\n",
      "|    value_loss           | 1.17       |\n",
      "----------------------------------------\n",
      "----------------------------------------\n",
      "| rollout/                |            |\n",
      "|    ep_len_mean          | 3.94       |\n",
      "|    ep_rew_mean          | 3.35       |\n",
      "| time/                   |            |\n",
      "|    fps                  | 102        |\n",
      "|    iterations           | 7          |\n",
      "|    time_elapsed         | 140        |\n",
      "|    total_timesteps      | 14336      |\n",
      "| train/                  |            |\n",
      "|    approx_kl            | 0.06872339 |\n",
      "|    clip_fraction        | 0.577      |\n",
      "|    clip_range           | 0.2        |\n",
      "|    entropy_loss         | -46        |\n",
      "|    explained_variance   | 0.313      |\n",
      "|    learning_rate        | 0.0003     |\n",
      "|    loss                 | 0.167      |\n",
      "|    n_updates            | 60         |\n",
      "|    policy_gradient_loss | -0.112     |\n",
      "|    value_loss           | 1.24       |\n",
      "----------------------------------------\n",
      "----------------------------------------\n",
      "| rollout/                |            |\n",
      "|    ep_len_mean          | 3.86       |\n",
      "|    ep_rew_mean          | 3.27       |\n",
      "| time/                   |            |\n",
      "|    fps                  | 101        |\n",
      "|    iterations           | 8          |\n",
      "|    time_elapsed         | 161        |\n",
      "|    total_timesteps      | 16384      |\n",
      "| train/                  |            |\n",
      "|    approx_kl            | 0.06647892 |\n",
      "|    clip_fraction        | 0.591      |\n",
      "|    clip_range           | 0.2        |\n",
      "|    entropy_loss         | -46        |\n",
      "|    explained_variance   | 0.352      |\n",
      "|    learning_rate        | 0.0003     |\n",
      "|    loss                 | 0.453      |\n",
      "|    n_updates            | 70         |\n",
      "|    policy_gradient_loss | -0.111     |\n",
      "|    value_loss           | 1.21       |\n",
      "----------------------------------------\n",
      "----------------------------------------\n",
      "| rollout/                |            |\n",
      "|    ep_len_mean          | 4.07       |\n",
      "|    ep_rew_mean          | 3.48       |\n",
      "| time/                   |            |\n",
      "|    fps                  | 101        |\n",
      "|    iterations           | 9          |\n",
      "|    time_elapsed         | 181        |\n",
      "|    total_timesteps      | 18432      |\n",
      "| train/                  |            |\n",
      "|    approx_kl            | 0.07574439 |\n",
      "|    clip_fraction        | 0.587      |\n",
      "|    clip_range           | 0.2        |\n",
      "|    entropy_loss         | -45.9      |\n",
      "|    explained_variance   | 0.315      |\n",
      "|    learning_rate        | 0.0003     |\n",
      "|    loss                 | 0.415      |\n",
      "|    n_updates            | 80         |\n",
      "|    policy_gradient_loss | -0.111     |\n",
      "|    value_loss           | 1.21       |\n",
      "----------------------------------------\n",
      "----------------------------------------\n",
      "| rollout/                |            |\n",
      "|    ep_len_mean          | 4.04       |\n",
      "|    ep_rew_mean          | 3.43       |\n",
      "| time/                   |            |\n",
      "|    fps                  | 101        |\n",
      "|    iterations           | 10         |\n",
      "|    time_elapsed         | 202        |\n",
      "|    total_timesteps      | 20480      |\n",
      "| train/                  |            |\n",
      "|    approx_kl            | 0.07548031 |\n",
      "|    clip_fraction        | 0.609      |\n",
      "|    clip_range           | 0.2        |\n",
      "|    entropy_loss         | -45.9      |\n",
      "|    explained_variance   | 0.365      |\n",
      "|    learning_rate        | 0.0003     |\n",
      "|    loss                 | 0.645      |\n",
      "|    n_updates            | 90         |\n",
      "|    policy_gradient_loss | -0.111     |\n",
      "|    value_loss           | 1.22       |\n",
      "----------------------------------------\n",
      "-----------------------------------------\n",
      "| rollout/                |             |\n",
      "|    ep_len_mean          | 4.01        |\n",
      "|    ep_rew_mean          | 3.38        |\n",
      "| time/                   |             |\n",
      "|    fps                  | 100         |\n",
      "|    iterations           | 11          |\n",
      "|    time_elapsed         | 223         |\n",
      "|    total_timesteps      | 22528       |\n",
      "| train/                  |             |\n",
      "|    approx_kl            | 0.081280336 |\n",
      "|    clip_fraction        | 0.611       |\n",
      "|    clip_range           | 0.2         |\n",
      "|    entropy_loss         | -45.9       |\n",
      "|    explained_variance   | 0.338       |\n",
      "|    learning_rate        | 0.0003      |\n",
      "|    loss                 | 0.289       |\n",
      "|    n_updates            | 100         |\n",
      "|    policy_gradient_loss | -0.11       |\n",
      "|    value_loss           | 1.21        |\n",
      "-----------------------------------------\n",
      "-----------------------------------------\n",
      "| rollout/                |             |\n",
      "|    ep_len_mean          | 4.01        |\n",
      "|    ep_rew_mean          | 3.4         |\n",
      "| time/                   |             |\n",
      "|    fps                  | 100         |\n",
      "|    iterations           | 12          |\n",
      "|    time_elapsed         | 244         |\n",
      "|    total_timesteps      | 24576       |\n",
      "| train/                  |             |\n",
      "|    approx_kl            | 0.081506655 |\n",
      "|    clip_fraction        | 0.606       |\n",
      "|    clip_range           | 0.2         |\n",
      "|    entropy_loss         | -45.9       |\n",
      "|    explained_variance   | 0.302       |\n",
      "|    learning_rate        | 0.0003      |\n",
      "|    loss                 | 0.262       |\n",
      "|    n_updates            | 110         |\n",
      "|    policy_gradient_loss | -0.11       |\n",
      "|    value_loss           | 1.29        |\n",
      "-----------------------------------------\n",
      "----------------------------------------\n",
      "| rollout/                |            |\n",
      "|    ep_len_mean          | 4.2        |\n",
      "|    ep_rew_mean          | 3.58       |\n",
      "| time/                   |            |\n",
      "|    fps                  | 100        |\n",
      "|    iterations           | 13         |\n",
      "|    time_elapsed         | 265        |\n",
      "|    total_timesteps      | 26624      |\n",
      "| train/                  |            |\n",
      "|    approx_kl            | 0.09332503 |\n",
      "|    clip_fraction        | 0.619      |\n",
      "|    clip_range           | 0.2        |\n",
      "|    entropy_loss         | -45.9      |\n",
      "|    explained_variance   | 0.335      |\n",
      "|    learning_rate        | 0.0003     |\n",
      "|    loss                 | 0.325      |\n",
      "|    n_updates            | 120        |\n",
      "|    policy_gradient_loss | -0.111     |\n",
      "|    value_loss           | 1.27       |\n",
      "----------------------------------------\n"
     ]
    },
    {
     "data": {
      "text/plain": [
       "<stable_baselines3.ppo.ppo.PPO at 0x7f29f61a6d90>"
      ]
     },
     "execution_count": 17,
     "metadata": {},
     "output_type": "execute_result"
    }
   ],
   "source": [
    "#env = Monitor(env,log_dir)\n",
    "model = PPO(\"MlpPolicy\", env, verbose=1,tensorboard_log=\"./ppo_name_tensorboard/\") #multilayer\n",
    "env = PanEnv(size=100,distribution='Japan');\n",
    "#model = PPO(\"MlpPolicy\", env, verbose=1) #multilayer\n",
    "rewards_callback = TensorboardCallback()\n",
    "model.learn(total_timesteps=25000,tb_log_name=\"first_run\") #training loop\n",
    "#model.learn(total_timesteps=25000) #training loop\n",
    "\n",
    "#model.save(\"Japan_death\")\n",
    "\n",
    "#del model # remove to demonstrate saving and loading\n",
    "\n",
    "#Japan_death = PPO.load(\"Japan_death\")\n",
    "#https://stable-baselines.readthedocs.io/en/master/guide/tensorboard.html?highlight=tensorboard\n",
    "#^^^ tensorboard for displaying things, but I am stuck, upd: i guess it works now ^^^"
   ]
  },
  {
   "cell_type": "code",
   "execution_count": 18,
   "id": "9a38100b",
   "metadata": {},
   "outputs": [
    {
     "name": "stderr",
     "output_type": "stream",
     "text": [
      "/home/hector/miniconda3/envs/pandemic/lib/python3.9/site-packages/stable_baselines3/common/evaluation.py:65: UserWarning: Evaluation environment is not wrapped with a ``Monitor`` wrapper. This may result in reporting modified episode lengths and rewards, if other wrappers happen to modify these. Consider wrapping environment first with ``Monitor`` wrapper.\n",
      "  warnings.warn(\n"
     ]
    },
    {
     "name": "stdout",
     "output_type": "stream",
     "text": [
      "mean_reward:3.40 +/- 1.92\n"
     ]
    }
   ],
   "source": [
    "model.save(\"Japan_economy_reward\")\n",
    "mean_reward, std_reward = evaluate_policy(model, env,n_eval_episodes=100)\n",
    "print(f\"mean_reward:{mean_reward:.2f} +/- {std_reward:.2f}\")"
   ]
  },
  {
   "cell_type": "code",
   "execution_count": 19,
   "id": "c94b1c62",
   "metadata": {},
   "outputs": [
    {
     "name": "stdout",
     "output_type": "stream",
     "text": [
      "Using cpu device\n",
      "Wrapping the env with a `Monitor` wrapper\n",
      "Wrapping the env in a DummyVecEnv.\n",
      "mean_reward:3.49 +/- 2.03\n"
     ]
    }
   ],
   "source": [
    "model = PPO(\"MlpPolicy\", env, verbose=1,tensorboard_log=\"./ppo_name_tensorboard/\") #multilayer\n",
    "mean_reward, std_reward = evaluate_policy(model, env=PanEnv(size=100,distribution='Japan'), n_eval_episodes=100)\n",
    "print(f\"mean_reward:{mean_reward:.2f} +/- {std_reward:.2f}\")"
   ]
  },
  {
   "cell_type": "code",
   "execution_count": 20,
   "id": "155f17a6",
   "metadata": {},
   "outputs": [
    {
     "ename": "NameError",
     "evalue": "name 'Japan_death' is not defined",
     "output_type": "error",
     "traceback": [
      "\u001b[0;31m---------------------------------------------------------------------------\u001b[0m",
      "\u001b[0;31mNameError\u001b[0m                                 Traceback (most recent call last)",
      "\u001b[0;32m/tmp/ipykernel_23787/352099294.py\u001b[0m in \u001b[0;36m<module>\u001b[0;34m\u001b[0m\n\u001b[1;32m      1\u001b[0m \u001b[0;31m#after training, reward should have improved\u001b[0m\u001b[0;34m\u001b[0m\u001b[0;34m\u001b[0m\u001b[0m\n\u001b[0;32m----> 2\u001b[0;31m \u001b[0mmean_reward\u001b[0m\u001b[0;34m,\u001b[0m \u001b[0mstd_reward\u001b[0m \u001b[0;34m=\u001b[0m \u001b[0mevaluate_policy\u001b[0m\u001b[0;34m(\u001b[0m\u001b[0mJapan_death\u001b[0m\u001b[0;34m,\u001b[0m \u001b[0menv\u001b[0m\u001b[0;34m=\u001b[0m\u001b[0mPanEnv\u001b[0m\u001b[0;34m(\u001b[0m\u001b[0msize\u001b[0m\u001b[0;34m=\u001b[0m\u001b[0;36m100\u001b[0m\u001b[0;34m,\u001b[0m\u001b[0mdistribution\u001b[0m\u001b[0;34m=\u001b[0m\u001b[0;34m'Japan'\u001b[0m\u001b[0;34m)\u001b[0m\u001b[0;34m,\u001b[0m \u001b[0mn_eval_episodes\u001b[0m\u001b[0;34m=\u001b[0m\u001b[0;36m100\u001b[0m\u001b[0;34m)\u001b[0m\u001b[0;34m\u001b[0m\u001b[0;34m\u001b[0m\u001b[0m\n\u001b[0m\u001b[1;32m      3\u001b[0m \u001b[0mprint\u001b[0m\u001b[0;34m(\u001b[0m\u001b[0;34mf\"mean_reward:{mean_reward:.2f} +/- {std_reward:.2f}\"\u001b[0m\u001b[0;34m)\u001b[0m\u001b[0;34m\u001b[0m\u001b[0;34m\u001b[0m\u001b[0m\n",
      "\u001b[0;31mNameError\u001b[0m: name 'Japan_death' is not defined"
     ]
    }
   ],
   "source": [
    "#after training, reward should have improved\n",
    "mean_reward, std_reward = evaluate_policy(Japan_death, env=PanEnv(size=100,distribution='Japan'), n_eval_episodes=100)\n",
    "print(f\"mean_reward:{mean_reward:.2f} +/- {std_reward:.2f}\")"
   ]
  },
  {
   "cell_type": "code",
   "execution_count": null,
   "id": "116cd4d3",
   "metadata": {},
   "outputs": [],
   "source": [
    "#model.save(\"Japan_death\")\n",
    "Japan_death = PPO.load(\"Japan_economy_reward\")"
   ]
  },
  {
   "cell_type": "code",
   "execution_count": null,
   "id": "26a93023",
   "metadata": {},
   "outputs": [],
   "source": [
    "env = PanEnv(size=100,distribution='Japan')\n",
    "#after training, reward should have improved\n",
    "log_dir = \"./gym/\"\n",
    "env = Monitor(env,log_dir)\n",
    "mean_reward, std_reward = evaluate_policy(Japan_death, env, n_eval_episodes=100)\n",
    "print(f\"mean_reward:{mean_reward:.2f} +/- {std_reward:.2f}\")"
   ]
  },
  {
   "cell_type": "code",
   "execution_count": null,
   "id": "9e1068e2",
   "metadata": {},
   "outputs": [],
   "source": [
    "env = PanEnv(size=100,distribution='Japan')\n",
    "obs = env.reset()\n",
    "done = False\n",
    "obs_storage = []\n",
    "rewards_storage = []\n",
    "action_storage = []\n",
    "\n",
    "\n",
    "while not done:\n",
    "    action, _states = Japan_death.predict(obs)\n",
    "    \n",
    "    \n",
    "    obs, rewards, done, info = env.step(action)\n",
    "    obs_storage.append(obs)\n",
    "    infected = np.nonzero(obs[:,1])\n",
    "    l=np.size(infected)/100\n",
    "    print (l)\n",
    "    rewards_storage.append(rewards)\n",
    "    action_storage.append(action)\n",
    "\n",
    "from numpy import array\n",
    "from scipy.cluster.vq import vq, kmeans, whiten\n",
    "\n"
   ]
  },
  {
   "cell_type": "code",
   "execution_count": null,
   "id": "78a1554e",
   "metadata": {},
   "outputs": [],
   "source": [
    "def get_sums(obs,index):\n",
    "    sums = []\n",
    "    for i in np.arange(0,len(obs)):\n",
    "        sums.append(np.sum(obs_storage[i][:,index]))\n",
    "    return sums\n",
    "def show_pandemic(obs):\n",
    "    all_sums = []\n",
    "    for i in np.arange(0,7):\n",
    "        all_sums.append(get_sums(obs,i))\n",
    "    sval,ival,rval,vsval,vival,dval,economy_list = all_sums[0],all_sums[1],all_sums[2],all_sums[3],all_sums[4],all_sums[5],all_sums[6]\n",
    "    tlist = np.arange(0,len(obs))\n",
    "    plt.figure()\n",
    "    plt.plot(tlist, sval, label = \"S\")\n",
    "    plt.plot(tlist, rval, label = \"R\")\n",
    "    plt.plot(tlist, vsval, label = \"Sv\")\n",
    "    plt.plot(tlist, vival, label = \"Iv\")\n",
    "    plt.plot(tlist, ival, label = \"I\")\n",
    "    plt.plot(tlist, dval, label = \"D\")\n",
    "    plt.plot(tlist,economy_list, label = \"Economy\")\n",
    "    plt.legend()\n",
    "    plt.show()\n",
    "def show_actions(actions):\n",
    "    eps = len(actions)\n",
    "    \n",
    "    color_pos = np.linspace(0,1,eps)\n",
    "    cmap = mpl.cm.get_cmap('inferno')\n",
    "    colors = [cmap(pos) for pos in color_pos]\n",
    "    \n",
    "    \n",
    "    plt.figure()\n",
    "    for i in np.arange(0,eps):\n",
    "        #hist = np.histogram(actions[i],bins = np.linspace(1,21,20))\n",
    "        plt.plot(np.linspace(1,21,20),actions[i]/np.sum(actions[i]),color=colors[i],label='t = str(i)')\n",
    "    plt.show()"
   ]
  },
  {
   "cell_type": "code",
   "execution_count": null,
   "id": "3db08fde",
   "metadata": {},
   "outputs": [],
   "source": [
    "print(len(action_storage))"
   ]
  },
  {
   "cell_type": "code",
   "execution_count": null,
   "id": "dd4ffb7b",
   "metadata": {},
   "outputs": [],
   "source": [
    "show_pandemic(obs_storage)\n",
    "show_actions(action_storage)"
   ]
  },
  {
   "cell_type": "code",
   "execution_count": null,
   "id": "370e7fe5",
   "metadata": {},
   "outputs": [],
   "source": [
    "#split into learning and testing\n",
    "model.learn(total_timesteps = 5000)\n",
    "# store/accumulate rewards"
   ]
  },
  {
   "cell_type": "code",
   "execution_count": null,
   "id": "a45ca2dd",
   "metadata": {},
   "outputs": [],
   "source": []
  }
 ],
 "metadata": {
  "celltoolbar": "Raw Cell Format",
  "kernelspec": {
   "display_name": "Python 3 (ipykernel)",
   "language": "python",
   "name": "python3"
  },
  "language_info": {
   "codemirror_mode": {
    "name": "ipython",
    "version": 3
   },
   "file_extension": ".py",
   "mimetype": "text/x-python",
   "name": "python",
   "nbconvert_exporter": "python",
   "pygments_lexer": "ipython3",
   "version": "3.9.7"
  }
 },
 "nbformat": 4,
 "nbformat_minor": 5
}
