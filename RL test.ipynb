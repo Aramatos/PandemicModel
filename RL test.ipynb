{
 "cells": [
  {
   "cell_type": "code",
   "execution_count": 1,
   "id": "627f1e44",
   "metadata": {},
   "outputs": [],
   "source": [
    "from gym import Env\n",
    "from gym.envs.registration import EnvSpec\n",
    "import numpy as np\n",
    "from gym.spaces import MultiDiscrete,Box\n",
    "from graph_tool.all import *\n",
    "from stable_baselines3.common.evaluation import evaluate_policy\n",
    "from stable_baselines3.common.monitor import Monitor\n",
    "from makegraph import *\n",
    "import matplotlib.pyplot as plt\n",
    "import matplotlib as mpl"
   ]
  },
  {
   "cell_type": "code",
   "execution_count": 2,
   "id": "f75d7fff",
   "metadata": {},
   "outputs": [],
   "source": [
    "def simulatepandemic(self,actions):\n",
    "    action = np.divide(actions,np.sum(actions)) #relative availability of vaccine is calculated\n",
    "    action = np.multiply(action,self.vacc_sum)\n",
    "    update_state(self.g,action)\n",
    "    erate = extract_economy(self.g)\n",
    "    self.state = graph_to_matrix(self.g)\n",
    "    self.timestep += 1\n",
    "    \n",
    "    return self.state\n",
    "\n",
    "def initializepandemic(self):\n",
    "    self.g = make_graph(self.size,self.distribution)\n",
    "    self.state = graph_to_matrix(self.g)\n",
    "    return self.state"
   ]
  },
  {
   "cell_type": "code",
   "execution_count": 3,
   "id": "1a244482",
   "metadata": {},
   "outputs": [],
   "source": [
    "#the class is needed if we want to sample more frequently\n",
    "from stable_baselines3.common.callbacks import BaseCallback\n",
    "'''\n",
    "https://github.com/DLR-RM/stable-baselines3/issues/309\n",
    "\n",
    "^^^^^^ this was very helpful ^^^^^^\n",
    "'''\n",
    "class TensorboardCallback(BaseCallback):\n",
    "    \"\"\"\n",
    "    Custom callback for plotting additional values in tensorboard.\n",
    "    \"\"\"\n",
    "\n",
    "    def __init__(self, verbose=1):\n",
    "        super(TensorboardCallback, self).__init__(verbose)\n",
    "        self.cum_rew_1 = 0\n",
    "        #self.rew_1 = 0\n",
    "        \n",
    "    def _on_rollout_end(self) -> None:\n",
    "        self.logger.record(\"rollout/cum_rew_1\", self.cum_rew_1)\n",
    "        #self.logger.record(\"rollout/rew_1\", self.rew_1)\n",
    "        # reset var once recorded\n",
    "        self.cum_rew_1 = 0\n",
    "        self.rew_1 = 0\n",
    "        \n",
    "\n",
    "    def _on_step(self) -> bool:\n",
    "        # Log scalar value (here a random variable)\n",
    "        #value = np.random.random()\n",
    "        #self.logger.record('random_value', value)\n",
    "        \n",
    "        #self.logger.dump(self.num_timesteps)\n",
    "        self.cum_rew_1 += self.training_env.get_attr(\"reward\")[0]\n",
    "        #self.rew_1 = self.training_env.get_attr(\"reward_1\")[0]\n",
    "        return True"
   ]
  },
  {
   "cell_type": "code",
   "execution_count": 4,
   "id": "efb27396",
   "metadata": {},
   "outputs": [],
   "source": [
    "\n",
    "class PanEnv(Env):\n",
    "    def __init__(self,size,distribution):\n",
    "        self.size = size #original population size\n",
    "        self.spec = EnvSpec('GymEnv-v0')\n",
    "        self.action_space = MultiDiscrete(nvec=[10,10,10,10,10,10,10,10,10,10,10,10,10,10,10,10,10,10,10,10])\n",
    "        self.observation_space = Box(low=-np.inf,high=np.inf,shape=[self.size,7])\n",
    "        \n",
    "        \n",
    "        self.distribution = distribution #age distribution, country name as string\n",
    "        self.g = make_graph(self.size,self.distribution)\n",
    "        \n",
    "        self.vacc_sum = 2*round(size/20) #available vaccines per timestep for all age groups\n",
    "                \n",
    "        #state observation as matrix\n",
    "        self.state = graph_to_matrix(self.g)\n",
    "        \n",
    "        self.timestep = 1\n",
    "    def step(self,actions):\n",
    "    \n",
    "        \n",
    "        state = simulatepandemic(self,actions)\n",
    "        E_t = np.sum(state[:,0])+np.sum(state[:,2])+np.sum(state[:,3])\n",
    "        #observation (object): agent's observation of the current environment\n",
    "        #r ans s taken from nature paper\n",
    "        r = 8\n",
    "        s = 5\n",
    "        \n",
    "        total_population = self.size\n",
    "        \n",
    "        active_cases = np.sum(state[:,1])+np.sum(state[:,4])\n",
    "        #A_t and D_t from nature paper\n",
    "        \n",
    "        A_t = (active_cases/total_population) * 100\n",
    "        \n",
    "        D_t = np.sum(state[:,5])/total_population\n",
    "        #self.reward_1 =  E_t * np.exp(-r * A_t) - s * D_t\n",
    "        \n",
    "        reward = E_t/total_population\n",
    "        \n",
    "       \n",
    "        #print(reward)\n",
    "        #reward (float) : amount of reward returned after previous action\n",
    "        #negative reward: punishment > change weights a lot, push away from causing weights, positive rewards pull\n",
    "        #do reward compared to reward from previous step\n",
    "        #naive example: reward = -sum(infected) > we want a reward where the cumulative sum of infections until end\n",
    "        #is minimized\n",
    "        #exp. solution: store informatiop_n in self, summed infections, normalized by time\n",
    "        done = False\n",
    "        if((self.timestep > 19) or np.sum(self.state[:,1])==0):\n",
    "            done = True\n",
    "        #done (bool): episode is done after 20 timesteps or when there are no longer infected agents\n",
    "        info = {}\n",
    "        #info (dict): contains auxiliary diagnostic information (helpful for debugging, and sometimes learning)'''\n",
    "        return state, reward, done, info\n",
    "    def reset(self):\n",
    "        #returns initial state\n",
    "        self.timestep = 0\n",
    "        self.state = initializepandemic(self)\n",
    "        return self.state"
   ]
  },
  {
   "cell_type": "code",
   "execution_count": 5,
   "id": "323e155b",
   "metadata": {},
   "outputs": [],
   "source": [
    "from stable_baselines3.common.env_checker import check_env\n",
    "#check_env(Env)"
   ]
  },
  {
   "cell_type": "code",
   "execution_count": 6,
   "id": "aee4606a",
   "metadata": {},
   "outputs": [],
   "source": [
    "#matrix representation:\n",
    "#[S, I, R, Sv, Iv, D]"
   ]
  },
  {
   "cell_type": "code",
   "execution_count": 7,
   "id": "fae3c32c",
   "metadata": {},
   "outputs": [],
   "source": [
    "env = PanEnv(size=1000,distribution='Japan')\n",
    "x2=env.reset()"
   ]
  },
  {
   "cell_type": "code",
   "execution_count": 8,
   "id": "d8a4d82c",
   "metadata": {},
   "outputs": [
    {
     "data": {
      "text/plain": [
       "False"
      ]
     },
     "execution_count": 8,
     "metadata": {},
     "output_type": "execute_result"
    }
   ],
   "source": [
    "x1=env.reset()\n",
    "np.all(x1==x2)"
   ]
  },
  {
   "cell_type": "code",
   "execution_count": 9,
   "id": "b973eb29",
   "metadata": {},
   "outputs": [
    {
     "data": {
      "text/plain": [
       "(array([[1., 0., 0., ..., 0., 0., 0.],\n",
       "        [1., 0., 0., ..., 0., 0., 0.],\n",
       "        [1., 0., 0., ..., 0., 0., 0.],\n",
       "        ...,\n",
       "        [1., 0., 0., ..., 0., 0., 0.],\n",
       "        [1., 0., 0., ..., 0., 0., 0.],\n",
       "        [1., 0., 0., ..., 0., 0., 0.]]),\n",
       " 0.986,\n",
       " False,\n",
       " {})"
      ]
     },
     "execution_count": 9,
     "metadata": {},
     "output_type": "execute_result"
    }
   ],
   "source": [
    "env.step(np.random.rand(20))"
   ]
  },
  {
   "cell_type": "code",
   "execution_count": 10,
   "id": "d8a76275",
   "metadata": {},
   "outputs": [
    {
     "data": {
      "text/plain": [
       "array([[1., 0., 0., ..., 0., 0., 0.],\n",
       "       [1., 0., 0., ..., 0., 0., 0.],\n",
       "       [1., 0., 0., ..., 0., 0., 0.],\n",
       "       ...,\n",
       "       [1., 0., 0., ..., 0., 0., 0.],\n",
       "       [1., 0., 0., ..., 0., 0., 0.],\n",
       "       [1., 0., 0., ..., 0., 0., 0.]])"
      ]
     },
     "execution_count": 10,
     "metadata": {},
     "output_type": "execute_result"
    }
   ],
   "source": [
    "x2"
   ]
  },
  {
   "cell_type": "code",
   "execution_count": 11,
   "id": "d43a1858",
   "metadata": {},
   "outputs": [
    {
     "name": "stdout",
     "output_type": "stream",
     "text": [
      "[2. 3. 2. 3. 2. 3. 2. 3. 2. 3. 2. 3. 2. 3. 2. 3. 2. 3. 2. 3.]\n"
     ]
    }
   ],
   "source": [
    "actions = np.full(20,1)\n",
    "action = np.divide(actions,np.sum(actions)) #relative availability of vaccine is calculated\n",
    "action = np.multiply(action,env.vacc_sum)\n",
    "for i in np.arange(0,action.size-1):\n",
    "        num = action[i]\n",
    "        action[i] = round(num)\n",
    "        action[i+1] += num-action[i]\n",
    "print(action)"
   ]
  },
  {
   "cell_type": "code",

   "execution_count": 12,
   "id": "f6b04c27",
   "metadata": {},
   "outputs": [
    {
     "data": {
      "text/plain": [
       "(array([[1., 0., 0., ..., 0., 0., 0.],\n",
       "        [1., 0., 0., ..., 0., 0., 0.],\n",
       "        [1., 0., 0., ..., 0., 0., 0.],\n",
       "        ...,\n",
       "        [1., 0., 0., ..., 0., 0., 0.],\n",
       "        [1., 0., 0., ..., 0., 0., 0.],\n",
       "        [1., 0., 0., ..., 0., 0., 0.]]),\n",
       " 0.925,\n",
       " False,\n",
       " {})"
      ]
     },
     "execution_count": 12,
     "metadata": {},
     "output_type": "execute_result"
    }
   ],
   "source": [
    "env.step(actions)"
   ]
  },
  {
   "cell_type": "code",
   "execution_count": 13,
   "id": "fd4367ac",
   "metadata": {},
   "outputs": [
    {
     "name": "stdout",
     "output_type": "stream",
     "text": [
      "812.0 72.0 11.0 102.0 0.0\n"
     ]
    }
   ],
   "source": [
    "print(np.sum(env.state[:,0]),np.sum(env.state[:,1]),np.sum(env.state[:,2]),np.sum(env.state[:,3]),np.sum(env.state[:,4]),)"
   ]
  },
  {
   "cell_type": "code",   
   "execution_count": 13,
   "id": "6daad066",
   "metadata": {},
   "outputs": [
    {
     "name": "stderr",
     "output_type": "stream",
     "text": [
      "2021-12-03 07:50:20.743537: W tensorflow/stream_executor/platform/default/dso_loader.cc:64] Could not load dynamic library 'libcudart.so.11.0'; dlerror: libcudart.so.11.0: cannot open shared object file: No such file or directory\n",
      "2021-12-03 07:50:20.743648: I tensorflow/stream_executor/cuda/cudart_stub.cc:29] Ignore above cudart dlerror if you do not have a GPU set up on your machine.\n"
     ]
    },
    {
     "name": "stdout",
     "output_type": "stream",
     "text": [
      "Using cpu device\n",
      "Wrapping the env in a DummyVecEnv.\n"
     ]
    }
   ],
   "source": [
    "from stable_baselines3 import PPO\n",
    "from stable_baselines3.common.env_util import make_vec_env\n",
    "from stable_baselines3.common.vec_env import DummyVecEnv, SubprocVecEnv\n",
    "\n",
    "#tensorflow for graphs\n",
    "import tensorflow as tf\n",
    "from stable_baselines3.common.evaluation import evaluate_policy\n",
    "env = PanEnv(size=100,distribution='Japan')\n",
    "log_dir = \"./gym/\"\n",
    "env = Monitor(env,log_dir)\n",
    "model = PPO(\"MlpPolicy\",env,verbose=1)\n",
    "mean_reward, std_reward = evaluate_policy(model, env, n_eval_episodes=100)"
   ]
  },
  {
   "cell_type": "code",
   "execution_count": 15,
   "id": "6d40f279",
   "metadata": {},
   "outputs": [
    {
     "name": "stdout",
     "output_type": "stream",
     "text": [
      "mean_reward:3.41 +/- 2.10\n"
     ]
    }
   ],
   "source": [
    "print(f\"mean_reward:{mean_reward:.2f} +/- {std_reward:.2f}\")"
   ]
  },
  {
   "cell_type": "code",
   "execution_count": 16,
   "id": "d8db4dd7",
   "metadata": {},
   "outputs": [],
   "source": [
    "\n",
    "# Parallel environments\n",
    "\n",
    "env = DummyVecEnv([lambda: Monitor(PanEnv(size=100,distribution='Japan'),log_dir)])"
   ]
  },
  {
   "cell_type": "code",
   "execution_count": null,
   "id": "23774802",
   "metadata": {},
   "outputs": [],
   "source": []
  },
  {
   "cell_type": "code",
   "execution_count": 17,
   "id": "49a3376c",
   "metadata": {},
   "outputs": [
    {
     "name": "stdout",
     "output_type": "stream",
     "text": [
      "Using cpu device\n",
      "Logging to ./ppo_name_tensorboard/first_run_69\n",
      "---------------------------------\n",
      "| rollout/           |          |\n",
      "|    ep_len_mean     | 3.88     |\n",
      "|    ep_rew_mean     | 3.31     |\n",
      "| time/              |          |\n",
      "|    fps             | 116      |\n",
      "|    iterations      | 1        |\n",
      "|    time_elapsed    | 17       |\n",
      "|    total_timesteps | 2048     |\n",
      "---------------------------------\n",
      "----------------------------------------\n",
      "| rollout/                |            |\n",
      "|    cum_rew_1            | 674        |\n",
      "| time/                   |            |\n",
      "|    fps                  | 19         |\n",
      "|    iterations           | 2          |\n",
      "|    time_elapsed         | 214        |\n",
      "|    total_timesteps      | 4096       |\n",
      "| train/                  |            |\n",
      "|    approx_kl            | 0.04010006 |\n",
      "|    clip_fraction        | 0.382      |\n",
      "|    clip_range           | 0.2        |\n",
      "|    entropy_loss         | -46        |\n",
      "|    explained_variance   | -0.233     |\n",
      "|    learning_rate        | 0.0003     |\n",
      "|    loss                 | -0.0532    |\n",
      "|    n_updates            | 10         |\n",
      "|    policy_gradient_loss | -0.109     |\n",
      "|    value_loss           | 0.231      |\n",
      "----------------------------------------\n",
      "----------------------------------------\n",
      "| rollout/                |            |\n",
      "|    cum_rew_1            | 709        |\n",
      "| time/                   |            |\n",
      "|    fps                  | 18         |\n",
      "|    iterations           | 3          |\n",
      "|    time_elapsed         | 324        |\n",
      "|    total_timesteps      | 6144       |\n",
      "| train/                  |            |\n",
      "|    approx_kl            | 0.04787626 |\n",
      "|    clip_fraction        | 0.46       |\n",
      "|    clip_range           | 0.2        |\n",
      "|    entropy_loss         | -46        |\n",
      "|    explained_variance   | -0.0461    |\n",
      "|    learning_rate        | 0.0003     |\n",
      "|    loss                 | -0.0773    |\n",
      "|    n_updates            | 20         |\n",
      "|    policy_gradient_loss | -0.124     |\n",
      "|    value_loss           | 0.22       |\n",
      "----------------------------------------\n",
      "-----------------------------------------\n",
      "| rollout/                |             |\n",
      "|    cum_rew_1            | 712         |\n",
      "| time/                   |             |\n",
      "|    fps                  | 18          |\n",
      "|    iterations           | 4           |\n",
      "|    time_elapsed         | 431         |\n",
      "|    total_timesteps      | 8192        |\n",
      "| train/                  |             |\n",
      "|    approx_kl            | 0.056071382 |\n",
      "|    clip_fraction        | 0.504       |\n",
      "|    clip_range           | 0.2         |\n",
      "|    entropy_loss         | -46         |\n",
      "|    explained_variance   | -0.0434     |\n",
      "|    learning_rate        | 0.0003      |\n",
      "|    loss                 | -0.0613     |\n",
      "|    n_updates            | 30          |\n",
      "|    policy_gradient_loss | -0.128      |\n",
      "|    value_loss           | 0.228       |\n",
      "-----------------------------------------\n",
      "-----------------------------------------\n",
      "| rollout/                |             |\n",
      "|    cum_rew_1            | 705         |\n",
      "| time/                   |             |\n",
      "|    fps                  | 18          |\n",
      "|    iterations           | 5           |\n",
      "|    time_elapsed         | 542         |\n",
      "|    total_timesteps      | 10240       |\n",
      "| train/                  |             |\n",
      "|    approx_kl            | 0.058600865 |\n",
      "|    clip_fraction        | 0.53        |\n",
      "|    clip_range           | 0.2         |\n",
      "|    entropy_loss         | -46         |\n",
      "|    explained_variance   | -0.0246     |\n",
      "|    learning_rate        | 0.0003      |\n",
      "|    loss                 | -0.0773     |\n",
      "|    n_updates            | 40          |\n",
      "|    policy_gradient_loss | -0.131      |\n",
      "|    value_loss           | 0.229       |\n",
      "-----------------------------------------\n",
      "----------------------------------------\n",
      "| rollout/                |            |\n",
      "|    cum_rew_1            | 716        |\n",
      "| time/                   |            |\n",
      "|    fps                  | 18         |\n",
      "|    iterations           | 6          |\n",
      "|    time_elapsed         | 651        |\n",
      "|    total_timesteps      | 12288      |\n",
      "| train/                  |            |\n",
      "|    approx_kl            | 0.06325316 |\n",
      "|    clip_fraction        | 0.527      |\n",
      "|    clip_range           | 0.2        |\n",
      "|    entropy_loss         | -46        |\n",
      "|    explained_variance   | -0.015     |\n",
      "|    learning_rate        | 0.0003     |\n",
      "|    loss                 | -0.0713    |\n",
      "|    n_updates            | 50         |\n",
      "|    policy_gradient_loss | -0.131     |\n",
      "|    value_loss           | 0.224      |\n",
      "----------------------------------------\n",
      "----------------------------------------\n",
      "| rollout/                |            |\n",
      "|    cum_rew_1            | 713        |\n",
      "| time/                   |            |\n",
      "|    fps                  | 18         |\n",
      "|    iterations           | 7          |\n",
      "|    time_elapsed         | 757        |\n",
      "|    total_timesteps      | 14336      |\n",
      "| train/                  |            |\n",
      "|    approx_kl            | 0.06558134 |\n",
      "|    clip_fraction        | 0.548      |\n",
      "|    clip_range           | 0.2        |\n",
      "|    entropy_loss         | -46        |\n",
      "|    explained_variance   | -0.0236    |\n",
      "|    learning_rate        | 0.0003     |\n",
      "|    loss                 | -0.0725    |\n",
      "|    n_updates            | 60         |\n",
      "|    policy_gradient_loss | -0.131     |\n",
      "|    value_loss           | 0.226      |\n",
      "----------------------------------------\n",
      "----------------------------------------\n",
      "| rollout/                |            |\n",
      "|    cum_rew_1            | 658        |\n",
      "| time/                   |            |\n",
      "|    fps                  | 18         |\n",
      "|    iterations           | 8          |\n",
      "|    time_elapsed         | 863        |\n",
      "|    total_timesteps      | 16384      |\n",
      "| train/                  |            |\n",
      "|    approx_kl            | 0.06729416 |\n",
      "|    clip_fraction        | 0.555      |\n",
      "|    clip_range           | 0.2        |\n",
      "|    entropy_loss         | -45.9      |\n",
      "|    explained_variance   | -0.031     |\n",
      "|    learning_rate        | 0.0003     |\n",
      "|    loss                 | -0.0584    |\n",
      "|    n_updates            | 70         |\n",
      "|    policy_gradient_loss | -0.131     |\n",
      "|    value_loss           | 0.228      |\n",
      "----------------------------------------\n",
      "----------------------------------------\n",
      "| rollout/                |            |\n",
      "|    cum_rew_1            | 656        |\n",
      "| time/                   |            |\n",
      "|    fps                  | 18         |\n",
      "|    iterations           | 9          |\n",
      "|    time_elapsed         | 971        |\n",
      "|    total_timesteps      | 18432      |\n",
      "| train/                  |            |\n",
      "|    approx_kl            | 0.06678271 |\n",
      "|    clip_fraction        | 0.552      |\n",
      "|    clip_range           | 0.2        |\n",
      "|    entropy_loss         | -45.9      |\n",
      "|    explained_variance   | -0.0186    |\n",
      "|    learning_rate        | 0.0003     |\n",
      "|    loss                 | -0.0628    |\n",
      "|    n_updates            | 80         |\n",
      "|    policy_gradient_loss | -0.127     |\n",
      "|    value_loss           | 0.218      |\n",
      "----------------------------------------\n",
      "----------------------------------------\n",
      "| rollout/                |            |\n",
      "|    cum_rew_1            | 702        |\n",
      "| time/                   |            |\n",
      "|    fps                  | 18         |\n",
      "|    iterations           | 10         |\n",
      "|    time_elapsed         | 1081       |\n",
      "|    total_timesteps      | 20480      |\n",
      "| train/                  |            |\n",
      "|    approx_kl            | 0.07196831 |\n",
      "|    clip_fraction        | 0.552      |\n",
      "|    clip_range           | 0.2        |\n",
      "|    entropy_loss         | -45.9      |\n",
      "|    explained_variance   | -0.0348    |\n",
      "|    learning_rate        | 0.0003     |\n",
      "|    loss                 | -0.0715    |\n",
      "|    n_updates            | 90         |\n",
      "|    policy_gradient_loss | -0.128     |\n",
      "|    value_loss           | 0.218      |\n",
      "----------------------------------------\n",
      "---------------------------------------\n",
      "| rollout/                |           |\n",
      "|    cum_rew_1            | 688       |\n",
      "| time/                   |           |\n",
      "|    fps                  | 18        |\n",
      "|    iterations           | 11        |\n",
      "|    time_elapsed         | 1189      |\n",
      "|    total_timesteps      | 22528     |\n",
      "| train/                  |           |\n",
      "|    approx_kl            | 0.0743427 |\n",
      "|    clip_fraction        | 0.573     |\n",
      "|    clip_range           | 0.2       |\n",
      "|    entropy_loss         | -45.9     |\n",
      "|    explained_variance   | -0.0223   |\n",
      "|    learning_rate        | 0.0003    |\n",
      "|    loss                 | -0.0702   |\n",
      "|    n_updates            | 100       |\n",
      "|    policy_gradient_loss | -0.132    |\n",
      "|    value_loss           | 0.225     |\n",
      "---------------------------------------\n"
     ]
    },
    {
     "name": "stdout",
     "output_type": "stream",
     "text": [
      "----------------------------------------\n",
      "| rollout/                |            |\n",
      "|    cum_rew_1            | 683        |\n",
      "| time/                   |            |\n",
      "|    fps                  | 19         |\n",
      "|    iterations           | 12         |\n",
      "|    time_elapsed         | 1288       |\n",
      "|    total_timesteps      | 24576      |\n",
      "| train/                  |            |\n",
      "|    approx_kl            | 0.07872803 |\n",
      "|    clip_fraction        | 0.57       |\n",
      "|    clip_range           | 0.2        |\n",
      "|    entropy_loss         | -45.9      |\n",
      "|    explained_variance   | -0.0125    |\n",
      "|    learning_rate        | 0.0003     |\n",
      "|    loss                 | -0.0759    |\n",
      "|    n_updates            | 110        |\n",
      "|    policy_gradient_loss | -0.132     |\n",
      "|    value_loss           | 0.223      |\n",
      "----------------------------------------\n",
      "----------------------------------------\n",
      "| rollout/                |            |\n",
      "|    cum_rew_1            | 661        |\n",
      "| time/                   |            |\n",
      "|    fps                  | 19         |\n",
      "|    iterations           | 13         |\n",
      "|    time_elapsed         | 1391       |\n",
      "|    total_timesteps      | 26624      |\n",
      "| train/                  |            |\n",
      "|    approx_kl            | 0.07572681 |\n",
      "|    clip_fraction        | 0.564      |\n",
      "|    clip_range           | 0.2        |\n",
      "|    entropy_loss         | -45.8      |\n",
      "|    explained_variance   | -0.0198    |\n",
      "|    learning_rate        | 0.0003     |\n",
      "|    loss                 | -0.0654    |\n",
      "|    n_updates            | 120        |\n",
      "|    policy_gradient_loss | -0.129     |\n",
      "|    value_loss           | 0.221      |\n",
      "----------------------------------------\n"
     ]
    },
    {
     "data": {
      "text/plain": [
       "<stable_baselines3.ppo.ppo.PPO at 0x7f29f61a6d90>"
      ]
     },
     "execution_count": 17,
     "metadata": {},
     "output_type": "execute_result"
    }
   ],
   "source": [
    "#env = Monitor(env,log_dir)\n",
    "model = PPO(\"MlpPolicy\", env, verbose=1,tensorboard_log=\"./ppo_name_tensorboard/\") #multilayer\n",
    "env = PanEnv(size=100,distribution='Japan');\n",
    "#model = PPO(\"MlpPolicy\", env, verbose=1) #multilayer\n",
    "rewards_callback = TensorboardCallback()\n",
    "model.learn(total_timesteps=25000,tb_log_name=\"first_run\") #training loop\n",
    "#model.learn(total_timesteps=25000) #training loop\n",
    "\n",
    "#model.save(\"Japan_death\")\n",
    "\n",
    "#del model # remove to demonstrate saving and loading\n",
    "\n",
    "#Japan_death = PPO.load(\"Japan_death\")\n",
    "#https://stable-baselines.readthedocs.io/en/master/guide/tensorboard.html?highlight=tensorboard\n",
    "#^^^ tensorboard for displaying things, but I am stuck, upd: i guess it works now ^^^"
   ]
  },
  {
   "cell_type": "code",
   "execution_count": 18,
   "id": "e319510c",
   "metadata": {},
   "outputs": [
    {
     "name": "stderr",
     "output_type": "stream",
     "text": [
      "/home/hector/miniconda3/envs/pandemic/lib/python3.9/site-packages/stable_baselines3/common/evaluation.py:65: UserWarning: Evaluation environment is not wrapped with a ``Monitor`` wrapper. This may result in reporting modified episode lengths and rewards, if other wrappers happen to modify these. Consider wrapping environment first with ``Monitor`` wrapper.\n",
      "  warnings.warn(\n"
     ]
    },
    {
     "name": "stdout",
     "output_type": "stream",
     "text": [
      "mean_reward:3.40 +/- 1.92\n"
     ]
    }
   ],
   "source": [
    "model.save(\"Japan_economy_reward\")\n",
    "mean_reward, std_reward = evaluate_policy(model, env,n_eval_episodes=100)\n",
    "print(f\"mean_reward:{mean_reward:.2f} +/- {std_reward:.2f}\")"
   ]
  },
  {
   "cell_type": "code",
   "execution_count": 16,
   "id": "b9cc44cc-2d0b-449e-bce8-92717b4f5bc0",
   "metadata": {},
   "outputs": [
    {
     "ename": "NameError",
     "evalue": "name 'model' is not defined",
     "output_type": "error",
     "traceback": [
      "\u001b[0;31m---------------------------------------------------------------------------\u001b[0m",
      "\u001b[0;31mNameError\u001b[0m                                 Traceback (most recent call last)",
      "\u001b[0;32m/tmp/ipykernel_130718/774016739.py\u001b[0m in \u001b[0;36m<module>\u001b[0;34m\u001b[0m\n\u001b[0;32m----> 1\u001b[0;31m \u001b[0mmodel\u001b[0m\u001b[0;34m.\u001b[0m\u001b[0msave\u001b[0m\u001b[0;34m(\u001b[0m\u001b[0;34m\"Japan_death\"\u001b[0m\u001b[0;34m)\u001b[0m\u001b[0;34m\u001b[0m\u001b[0;34m\u001b[0m\u001b[0m\n\u001b[0m\u001b[1;32m      2\u001b[0m \u001b[0mJapan_death\u001b[0m \u001b[0;34m=\u001b[0m \u001b[0mPPO\u001b[0m\u001b[0;34m.\u001b[0m\u001b[0mload\u001b[0m\u001b[0;34m(\u001b[0m\u001b[0;34m\"Japan_death\"\u001b[0m\u001b[0;34m)\u001b[0m\u001b[0;34m\u001b[0m\u001b[0;34m\u001b[0m\u001b[0m\n",
      "\u001b[0;31mNameError\u001b[0m: name 'model' is not defined"
     ]
    }
   ],
   "source": [
    "model = PPO(\"MlpPolicy\", env, verbose=1,tensorboard_log=\"./ppo_name_tensorboard/\") #multilayer\n",
    "mean_reward, std_reward = evaluate_policy(model, env=PanEnv(size=100,distribution='Japan'), n_eval_episodes=100)\n",
    "print(f\"mean_reward:{mean_reward:.2f} +/- {std_reward:.2f}\")"
   ]
  },
  {
   "cell_type": "code",
   "execution_count": 20,
   "id": "d62b7b18",
   "metadata": {},
   "outputs": [
    {
     "ename": "NameError",
     "evalue": "name 'Japan_death' is not defined",
     "output_type": "error",
     "traceback": [
      "\u001b[0;31m---------------------------------------------------------------------------\u001b[0m",
      "\u001b[0;31mNameError\u001b[0m                                 Traceback (most recent call last)",
      "\u001b[0;32m/tmp/ipykernel_23787/352099294.py\u001b[0m in \u001b[0;36m<module>\u001b[0;34m\u001b[0m\n\u001b[1;32m      1\u001b[0m \u001b[0;31m#after training, reward should have improved\u001b[0m\u001b[0;34m\u001b[0m\u001b[0;34m\u001b[0m\u001b[0m\n\u001b[0;32m----> 2\u001b[0;31m \u001b[0mmean_reward\u001b[0m\u001b[0;34m,\u001b[0m \u001b[0mstd_reward\u001b[0m \u001b[0;34m=\u001b[0m \u001b[0mevaluate_policy\u001b[0m\u001b[0;34m(\u001b[0m\u001b[0mJapan_death\u001b[0m\u001b[0;34m,\u001b[0m \u001b[0menv\u001b[0m\u001b[0;34m=\u001b[0m\u001b[0mPanEnv\u001b[0m\u001b[0;34m(\u001b[0m\u001b[0msize\u001b[0m\u001b[0;34m=\u001b[0m\u001b[0;36m100\u001b[0m\u001b[0;34m,\u001b[0m\u001b[0mdistribution\u001b[0m\u001b[0;34m=\u001b[0m\u001b[0;34m'Japan'\u001b[0m\u001b[0;34m)\u001b[0m\u001b[0;34m,\u001b[0m \u001b[0mn_eval_episodes\u001b[0m\u001b[0;34m=\u001b[0m\u001b[0;36m100\u001b[0m\u001b[0;34m)\u001b[0m\u001b[0;34m\u001b[0m\u001b[0;34m\u001b[0m\u001b[0m\n\u001b[0m\u001b[1;32m      3\u001b[0m \u001b[0mprint\u001b[0m\u001b[0;34m(\u001b[0m\u001b[0;34mf\"mean_reward:{mean_reward:.2f} +/- {std_reward:.2f}\"\u001b[0m\u001b[0;34m)\u001b[0m\u001b[0;34m\u001b[0m\u001b[0;34m\u001b[0m\u001b[0m\n",
      "\u001b[0;31mNameError\u001b[0m: name 'Japan_death' is not defined"
     ]
    }
   ],
   "source": [
    "#after training, reward should have improved\n",
    "mean_reward, std_reward = evaluate_policy(Japan_death, env=PanEnv(size=100,distribution='Japan'), n_eval_episodes=100)\n",
    "print(f\"mean_reward:{mean_reward:.2f} +/- {std_reward:.2f}\")"
   ]
  },
  {
   "cell_type": "code",
   "execution_count": null,
   "id": "547e096d",
   "metadata": {},
   "outputs": [],
   "source": [
    "#model.save(\"Japan_death\")\n",
    "Japan_death = PPO.load(\"Japan_economy_reward\")"
   ]
  },
  {
   "cell_type": "code",
   "execution_count": null,
   "id": "964e4953",
   "metadata": {},
   "outputs": [],
   "source": [
    "env = PanEnv(size=100,distribution='Japan')\n",
    "#after training, reward should have improved\n",
    "log_dir = \"./gym/\"\n",
    "env = Monitor(env,log_dir)\n",
    "mean_reward, std_reward = evaluate_policy(Japan_death, env, n_eval_episodes=100)\n",
    "print(f\"mean_reward:{mean_reward:.2f} +/- {std_reward:.2f}\")"
   ]
  },
  {
   "cell_type": "code",
   "execution_count": null,
   "id": "7b91495c",
   "metadata": {},
   "outputs": [],
   "source": [
    "env = PanEnv(size=100,distribution='Japan')\n",
    "obs = env.reset()\n",
    "done = False\n",
    "obs_storage = []\n",
    "rewards_storage = []\n",
    "action_storage = []\n",
    "\n",
    "\n",
    "while not done:\n",
    "    action, _states = Japan_death.predict(obs)\n",
    "    \n",
    "    \n",
    "    obs, rewards, done, info = env.step(action)\n",
    "    obs_storage.append(obs)\n",
    "    infected = np.nonzero(obs[:,1])\n",
    "    l=np.size(infected)/100\n",
    "    print (l)\n",
    "    rewards_storage.append(rewards)\n",
    "    action_storage.append(action)\n",
    "\n",
    "from numpy import array\n",
    "from scipy.cluster.vq import vq, kmeans, whiten\n",
    "\n"
   ]
  },
  {
   "cell_type": "code",
   "execution_count": null,
   "id": "a00dcea4",
   "metadata": {},
   "outputs": [],
   "source": [
    "def get_sums(obs,index):\n",
    "    sums = []\n",
    "    for i in np.arange(0,len(obs)):\n",
    "        sums.append(np.sum(obs_storage[i][:,index]))\n",
    "    return sums\n",
    "def show_pandemic(obs):\n",
    "    all_sums = []\n",
    "    for i in np.arange(0,7):\n",
    "        all_sums.append(get_sums(obs,i))\n",
    "    sval,ival,rval,vsval,vival,dval,economy_list = all_sums[0],all_sums[1],all_sums[2],all_sums[3],all_sums[4],all_sums[5],all_sums[6]\n",
    "    tlist = np.arange(0,len(obs))\n",
    "    plt.figure()\n",
    "    plt.plot(tlist, sval, label = \"S\")\n",
    "    plt.plot(tlist, rval, label = \"R\")\n",
    "    plt.plot(tlist, vsval, label = \"Sv\")\n",
    "    plt.plot(tlist, vival, label = \"Iv\")\n",
    "    plt.plot(tlist, ival, label = \"I\")\n",
    "    plt.plot(tlist, dval, label = \"D\")\n",
    "    plt.plot(tlist,economy_list, label = \"Economy\")\n",
    "    plt.legend()\n",
    "    plt.show()\n",
    "def show_actions(actions):\n",
    "    eps = len(actions)\n",
    "    \n",
    "    color_pos = np.linspace(0,1,eps)\n",
    "    cmap = mpl.cm.get_cmap('inferno')\n",
    "    colors = [cmap(pos) for pos in color_pos]\n",
    "    \n",
    "    \n",
    "    plt.figure()\n",
    "    for i in np.arange(0,eps):\n",
    "        #hist = np.histogram(actions[i],bins = np.linspace(1,21,20))\n",
    "        plt.plot(np.linspace(1,21,20),actions[i]/np.sum(actions[i]),color=colors[i],label='t = str(i)')\n",
    "    plt.show()"
   ]
  },
  {
   "cell_type": "code",
   "execution_count": null,
   "id": "5f6dbe59",
   "metadata": {},
   "outputs": [],
   "source": [
    "print(len(action_storage))"
   ]
  },
  {
   "cell_type": "code",
   "execution_count": null,
   "id": "b1c7279f",
   "metadata": {},
   "outputs": [],
   "source": [
    "show_pandemic(obs_storage)\n",
    "show_actions(action_storage)"
   ]
  },
  {
   "cell_type": "code",
   "execution_count": null,
   "id": "5e815aa1",
   "metadata": {},
   "outputs": [],
   "source": [
    "#split into learning and testing\n",
    "model.learn(total_timesteps = 5000)\n",
    "# store/accumulate rewards"
   ]
  },
  {
   "cell_type": "code",
   "execution_count": null,
   "id": "b3bd4c81",
   "metadata": {},
   "outputs": [],
   "source": []
  }
 ],
 "metadata": {
  "celltoolbar": "Raw Cell Format",
  "kernelspec": {
   "display_name": "Python 3 (ipykernel)",
   "language": "python",
   "name": "python3"
  },
  "language_info": {
   "codemirror_mode": {
    "name": "ipython",
    "version": 3
   },
   "file_extension": ".py",
   "mimetype": "text/x-python",
   "name": "python",
   "nbconvert_exporter": "python",
   "pygments_lexer": "ipython3",
   "version": "3.9.7"
  }
 },
 "nbformat": 4,
 "nbformat_minor": 5
}
