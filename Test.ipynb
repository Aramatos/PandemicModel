{
 "cells": [
  {
   "cell_type": "code",
   "execution_count": 9,
   "id": "809d8372",
   "metadata": {},
   "outputs": [],
   "source": [
    "from graph_tool.all import *\n",
    "from makegraph import make_graph\n",
    "from makegraph import graph_to_matrix\n",
    "from numpy.random import randint\n",
    "from numpy.random import random\n",
    "from numpy.random import *\n",
    "import numpy as np"
   ]
  },
  {
   "cell_type": "code",
   "execution_count": 15,
   "id": "cb5d9eee",
   "metadata": {},
   "outputs": [],
   "source": [
    "    if 1 ==1:\n",
    "        size = 103\n",
    "        g = Graph(directed=False)\n",
    "    \n",
    "        # insert random vertices (nodes)\n",
    "        g.add_vertex(size)\n",
    "    \n",
    "        # insert some random links\n",
    "        for s,t in zip(randint(0, size, 2*size), randint(0, size, 2*size)):\n",
    "            g.add_edge(g.vertex(s), g.vertex(t))\n",
    "    else:\n",
    "         g=graph_tool.generation.price_network(101, m=5, c=None, gamma=1, directed=False,seed_graph=None)"
   ]
  },
  {
   "cell_type": "code",
   "execution_count": 16,
   "id": "b4907c44",
   "metadata": {},
   "outputs": [
    {
     "data": {
      "text/plain": [
       "<Graph object, undirected, with 103 vertices and 206 edges, at 0x7f423a971c40>"
      ]
     },
     "execution_count": 16,
     "metadata": {},
     "output_type": "execute_result"
    }
   ],
   "source": [
    "g"
   ]
  },
  {
   "cell_type": "code",
   "execution_count": 3,
   "id": "a0889538",
   "metadata": {},
   "outputs": [],
   "source": [
    "#states\n",
    "S = [1, 1, 1, 1]          # SUSCEPTIBLE\n",
    "\n",
    "I = [0, 0, 0, 1]          # INFECTED\n",
    "\n",
    "R = [0.5, 0.5, 0.5, 1.]   # RECOVERED\n",
    "\n",
    "Sv = [0, 0, 1, 1]         # SUSCEPTIBLE + VACCINATED\n",
    "\n",
    "Iv = [0.2,0.2,0.5,1]      # INFECTED + VACCINATED\n",
    "\n",
    "D = [0.8, 0, 0, 0.6]      # DEAD"
   ]
  },
  {
   "cell_type": "code",
   "execution_count": 4,
   "id": "3140f4d9",
   "metadata": {},
   "outputs": [
    {
     "name": "stdout",
     "output_type": "stream",
     "text": [
      "[[1. 0. 0. 0. 0. 0.]\n",
      " [1. 0. 0. 0. 0. 0.]\n",
      " [1. 0. 0. 0. 0. 0.]\n",
      " ...\n",
      " [1. 0. 0. 0. 0. 0.]\n",
      " [1. 0. 0. 0. 0. 0.]\n",
      " [1. 0. 0. 0. 0. 0.]]\n"
     ]
    }
   ],
   "source": [
    "print(graph_to_matrix(g))"
   ]
  },
  {
   "cell_type": "code",
   "execution_count": 5,
   "id": "f227b286",
   "metadata": {},
   "outputs": [],
   "source": [
    "#print(scount)"
   ]
  },
  {
   "cell_type": "code",
   "execution_count": null,
   "id": "19a88a7f",
   "metadata": {},
   "outputs": [],
   "source": []
  },
  {
   "cell_type": "code",
   "execution_count": null,
   "id": "15664c2a",
   "metadata": {},
   "outputs": [],
   "source": []
  },
  {
   "cell_type": "code",
   "execution_count": null,
   "id": "676cb6b6",
   "metadata": {},
   "outputs": [],
   "source": []
  }
 ],
 "metadata": {
  "kernelspec": {
   "display_name": "Python 3 (ipykernel)",
   "language": "python",
   "name": "python3"
  },
  "language_info": {
   "codemirror_mode": {
    "name": "ipython",
    "version": 3
   },
   "file_extension": ".py",
   "mimetype": "text/x-python",
   "name": "python",
   "nbconvert_exporter": "python",
   "pygments_lexer": "ipython3",
   "version": "3.9.7"
  }
 },
 "nbformat": 4,
 "nbformat_minor": 5
}
