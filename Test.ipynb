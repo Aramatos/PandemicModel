{
 "cells": [
  {
   "cell_type": "code",
   "execution_count": 1,
   "id": "35fb68fa",
   "metadata": {},
   "outputs": [],
   "source": [
    "from graph_tool.all import *\n",
    "from makegraph import make_graph\n",
    "from makegraph import graph_to_matrix\n",
    "from numpy.random import randint\n",
    "from numpy.random import random\n",
    "from numpy.random import *\n",
    "import numpy as np"
   ]
  },
  {
   "cell_type": "code",
   "execution_count": 2,
   "id": "20b70cac",
   "metadata": {},
   "outputs": [],
   "source": [
    "g=make_graph(1000,'Japan')"
   ]
  },
  {
   "cell_type": "code",
   "execution_count": 3,
   "id": "08c03732",
   "metadata": {},
   "outputs": [],
   "source": [
    "#states\n",
    "S = [1, 1, 1, 1]          # SUSCEPTIBLE\n",
    "\n",
    "I = [0, 0, 0, 1]          # INFECTED\n",
    "\n",
    "R = [0.5, 0.5, 0.5, 1.]   # RECOVERED\n",
    "\n",
    "Sv = [0, 0, 1, 1]         # SUSCEPTIBLE + VACCINATED\n",
    "\n",
    "Iv = [0.2,0.2,0.5,1]      # INFECTED + VACCINATED\n",
    "\n",
    "D = [0.8, 0, 0, 0.6]      # DEAD"
   ]
  },
  {
   "cell_type": "code",
   "execution_count": 4,
   "id": "8285041a",
   "metadata": {},
   "outputs": [
    {
     "name": "stdout",
     "output_type": "stream",
     "text": [
      "[[1. 0. 0. 0. 0. 0.]\n",
      " [1. 0. 0. 0. 0. 0.]\n",
      " [1. 0. 0. 0. 0. 0.]\n",
      " ...\n",
      " [1. 0. 0. 0. 0. 0.]\n",
      " [1. 0. 0. 0. 0. 0.]\n",
      " [1. 0. 0. 0. 0. 0.]]\n"
     ]
    }
   ],
   "source": [
    "print(graph_to_matrix(g))"
   ]
  },
  {
   "cell_type": "code",
   "execution_count": 5,
   "id": "78dd01c5",
   "metadata": {},
   "outputs": [],
   "source": [
    "#print(scount)"
   ]
  },
  {
   "cell_type": "code",
   "execution_count": null,
   "id": "72603a11",
   "metadata": {},
   "outputs": [],
   "source": []
  },
  {
   "cell_type": "code",
   "execution_count": null,
   "id": "49e2598e",
   "metadata": {},
   "outputs": [],
   "source": []
  },
  {
   "cell_type": "code",
   "execution_count": null,
   "id": "6a6cc930",
   "metadata": {},
   "outputs": [],
   "source": []
  }
 ],
 "metadata": {
  "kernelspec": {
   "display_name": "Python 3 (ipykernel)",
   "language": "python",
   "name": "python3"
  },
  "language_info": {
   "codemirror_mode": {
    "name": "ipython",
    "version": 3
   },
   "file_extension": ".py",
   "mimetype": "text/x-python",
   "name": "python",
   "nbconvert_exporter": "python",
   "pygments_lexer": "ipython3",
   "version": "3.9.7"
  }
 },
 "nbformat": 4,
 "nbformat_minor": 5
}
