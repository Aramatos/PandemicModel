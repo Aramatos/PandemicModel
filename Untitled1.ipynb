{
 "cells": [
  {
   "cell_type": "code",
   "execution_count": 1,
   "id": "b31735d3-0a58-4145-8b4f-827f302cf1e3",
   "metadata": {},
   "outputs": [],
   "source": [
    "from graph_tool.all import *\n",
    "from makegraph import make_graph\n",
    "from makegraph import graph_to_matrix\n",
    "from numpy.random import randint\n",
    "from numpy.random import random\n",
    "from numpy.random import *\n",
    "import numpy as np"
   ]
  },
  {
   "cell_type": "code",
   "execution_count": 2,
   "id": "10665918-0ed2-4d6f-954b-929313abb03b",
   "metadata": {},
   "outputs": [],
   "source": [
    "g=make_graph(1000,'Japan')"
   ]
  },
  {
   "cell_type": "code",
   "execution_count": 3,
   "id": "a72bb96b-52d6-4644-8a57-8aa583faac22",
   "metadata": {},
   "outputs": [],
   "source": [
    "#states\n",
    "S = [1, 1, 1, 1]          # SUSCEPTIBLE\n",
    "\n",
    "I = [0, 0, 0, 1]          # INFECTED\n",
    "\n",
    "R = [0.5, 0.5, 0.5, 1.]   # RECOVERED\n",
    "\n",
    "Sv = [0, 0, 1, 1]         # SUSCEPTIBLE + VACCINATED\n",
    "\n",
    "Iv = [0.2,0.2,0.5,1]      # INFECTED + VACCINATED\n",
    "\n",
    "D = [0.8, 0, 0, 0.6]      # DEAD"
   ]
  },
  {
   "cell_type": "code",
   "execution_count": 4,
   "id": "8d708296-91d4-41d9-8c90-59db8f7a0d84",
   "metadata": {},
   "outputs": [
    {
     "name": "stdout",
     "output_type": "stream",
     "text": [
      "[[1. 0. 0. 0. 0. 0.]\n",
      " [1. 0. 0. 0. 0. 0.]\n",
      " [1. 0. 0. 0. 0. 0.]\n",
      " ...\n",
      " [1. 0. 0. 0. 0. 0.]\n",
      " [1. 0. 0. 0. 0. 0.]\n",
      " [1. 0. 0. 0. 0. 0.]]\n"
     ]
    }
   ],
   "source": [
    "print(graph_to_matrix(g))"
   ]
  },
  {
   "cell_type": "code",
   "execution_count": 5,
   "id": "be53f81f-388f-4ec4-ab2a-8b068901d827",
   "metadata": {},
   "outputs": [],
   "source": [
    "#print(scount)"
   ]
  },
  {
   "cell_type": "code",
   "execution_count": null,
   "id": "c5e035fb-3bca-4c75-a501-af94d8372aa8",
   "metadata": {},
   "outputs": [],
   "source": []
  },
  {
   "cell_type": "code",
   "execution_count": null,
   "id": "658d26bc-7469-47b5-892f-43786540761c",
   "metadata": {},
   "outputs": [],
   "source": []
  },
  {
   "cell_type": "code",
   "execution_count": null,
   "id": "eef3f0f5-aee6-4188-b0d7-2218de658f3b",
   "metadata": {},
   "outputs": [],
   "source": []
  }
 ],
 "metadata": {
  "kernelspec": {
   "display_name": "Python 3 (ipykernel)",
   "language": "python",
   "name": "python3"
  },
  "language_info": {
   "codemirror_mode": {
    "name": "ipython",
    "version": 3
   },
   "file_extension": ".py",
   "mimetype": "text/x-python",
   "name": "python",
   "nbconvert_exporter": "python",
   "pygments_lexer": "ipython3",
   "version": "3.9.7"
  }
 },
 "nbformat": 4,
 "nbformat_minor": 5
}
