{
 "cells": [
  {
   "cell_type": "code",
   "execution_count": 33,
   "id": "045e79f8-c870-4f1b-b4a1-963884ef02e5",
   "metadata": {},
   "outputs": [],
   "source": [
    "from graph_tool.all import *\n",
    "from numpy.random import randint\n",
    "from numpy.random import random\n",
    "from IPython.display import Image #import to displaz images\n",
    "\n"
   ]
  },
  {
   "cell_type": "code",
   "execution_count": 135,
   "id": "26e732e3-7707-4b7b-9295-59c9dc157941",
   "metadata": {},
   "outputs": [],
   "source": [
    "g = Graph(directed=False)\n",
    "\n",
    "#definition of vertex properties\n",
    "\n",
    "\n",
    "\n",
    "S = [1, 1, 1, 1]           # White color\n",
    "\n",
    "I = [0, 0, 0, 1]           # Black color\n",
    "\n",
    "R = [0.5, 0.5, 0.5, 1.]    # Grey color (will not actually be drawn)\n",
    "\n",
    "state = g.new_vertex_property(\"vector<double>\")\n",
    "age=g.new_vertex_property(\"int\")\n",
    "vac=g.new_vertex_property(\"bool\")\n",
    "\n",
    "\n",
    "agegroups=20\n",
    "agegrouplists = [[] for i in range(1, agegroups+1)]\n",
    "\n",
    "\n",
    "#definition of edge properties\n",
    "\n",
    "#for not I think an edge just exists so there shouldnt be any edge properties\n",
    "\n",
    "\n",
    "for v in g.vertices():\n",
    "    i=randint(1,age_groups)\n",
    "    vprop_age[v] = i\n",
    "\n",
    "\n",
    "\n"
   ]
  },
  {
   "cell_type": "code",
   "execution_count": null,
   "id": "e3d82453-8aae-4a4d-83db-05e8c938b5c0",
   "metadata": {},
   "outputs": [],
   "source": []
  },
  {
   "cell_type": "markdown",
   "id": "ee8270ee-82e6-4cd0-a7bb-689b2c64affe",
   "metadata": {},
   "source": [
    "random(g.num_vertices())"
   ]
  },
  {
   "cell_type": "markdown",
   "id": "5ac49aed-805b-485b-b843-da50404a723e",
   "metadata": {},
   "source": [
    "random(g.num_vertices())"
   ]
  },
  {
   "cell_type": "code",
   "execution_count": 141,
   "id": "7a882314-49af-4d03-a550-a289eea1fc57",
   "metadata": {},
   "outputs": [],
   "source": [
    "##THIS IS THE DEFINITION OF VERTICES AND ESGE PROPERTIES\n",
    "\n",
    "\n",
    "#insert random vertices (nodes)\n",
    "g.add_vertex(100)\n",
    "\n",
    "# insert some random links\n",
    "for s,t in zip(randint(0, 100, 100), randint(0, 100, 100)):\n",
    "    g.add_edge(g.vertex(s), g.vertex(t))\n",
    "    \n",
    "    \n",
    "\n",
    "x = 0.001    # spontaneous outbreak probability\n",
    "\n",
    "r = 0.1      # I->R probability\n",
    "\n",
    "s = 0.01     # R->S probability\n",
    "\n",
    "for i in g.vertices():\n",
    "    v = g.vertex(i) \n",
    "    state[v] = S\n",
    "    \n",
    "for i in g.vertices():\n",
    "    v = g.vertex(i)\n",
    "    a =randint(1,agegroups)\n",
    "    age[v] = a\n",
    "    agegrouplists[a].append(v)\n",
    "    \n",
    "\n",
    "if 1 == 2:\n",
    "    for i in g.vertices():\n",
    "        v = g.vertex(i)\n",
    "        vac[v] = False\n"
   ]
  },
  {
   "cell_type": "code",
   "execution_count": 125,
   "id": "91eddf35-7851-47ce-8dd6-d80f374d9100",
   "metadata": {},
   "outputs": [
    {
     "ename": "TypeError",
     "evalue": "int() argument must be a string, a bytes-like object or a number, not 'list'",
     "output_type": "error",
     "traceback": [
      "\u001b[0;31m---------------------------------------------------------------------------\u001b[0m",
      "\u001b[0;31mTypeError\u001b[0m                                 Traceback (most recent call last)",
      "\u001b[0;32m/tmp/ipykernel_4282/3702673754.py\u001b[0m in \u001b[0;36m<module>\u001b[0;34m\u001b[0m\n\u001b[0;32m----> 1\u001b[0;31m \u001b[0mstate\u001b[0m\u001b[0;34m[\u001b[0m\u001b[0mg\u001b[0m\u001b[0;34m.\u001b[0m\u001b[0mvertex\u001b[0m\u001b[0;34m(\u001b[0m\u001b[0magegrouplists\u001b[0m\u001b[0;34m[\u001b[0m\u001b[0;36m1\u001b[0m\u001b[0;34m]\u001b[0m\u001b[0;34m)\u001b[0m\u001b[0;34m]\u001b[0m\u001b[0;34m\u001b[0m\u001b[0;34m\u001b[0m\u001b[0m\n\u001b[0m\u001b[1;32m      2\u001b[0m \u001b[0;34m\u001b[0m\u001b[0m\n",
      "\u001b[0;32m~/miniconda3/envs/pandemic/lib/python3.9/site-packages/graph_tool/__init__.py\u001b[0m in \u001b[0;36mvertex\u001b[0;34m(self, i, use_index, add_missing)\u001b[0m\n\u001b[1;32m   1861\u001b[0m         \u001b[0mvertex\u001b[0m \u001b[0;32mis\u001b[0m \u001b[0mreturned\u001b[0m\u001b[0;34m.\u001b[0m\u001b[0;34m\u001b[0m\u001b[0;34m\u001b[0m\u001b[0m\n\u001b[1;32m   1862\u001b[0m         \"\"\"\n\u001b[0;32m-> 1863\u001b[0;31m         \u001b[0mv\u001b[0m \u001b[0;34m=\u001b[0m \u001b[0mlibcore\u001b[0m\u001b[0;34m.\u001b[0m\u001b[0mget_vertex\u001b[0m\u001b[0;34m(\u001b[0m\u001b[0mself\u001b[0m\u001b[0;34m.\u001b[0m\u001b[0m__graph\u001b[0m\u001b[0;34m,\u001b[0m \u001b[0mint\u001b[0m\u001b[0;34m(\u001b[0m\u001b[0mi\u001b[0m\u001b[0;34m)\u001b[0m\u001b[0;34m,\u001b[0m \u001b[0muse_index\u001b[0m\u001b[0;34m)\u001b[0m\u001b[0;34m\u001b[0m\u001b[0;34m\u001b[0m\u001b[0m\n\u001b[0m\u001b[1;32m   1864\u001b[0m         \u001b[0;32mif\u001b[0m \u001b[0;32mnot\u001b[0m \u001b[0mv\u001b[0m\u001b[0;34m.\u001b[0m\u001b[0mis_valid\u001b[0m\u001b[0;34m(\u001b[0m\u001b[0;34m)\u001b[0m\u001b[0;34m:\u001b[0m\u001b[0;34m\u001b[0m\u001b[0;34m\u001b[0m\u001b[0m\n\u001b[1;32m   1865\u001b[0m             \u001b[0;32mif\u001b[0m \u001b[0madd_missing\u001b[0m\u001b[0;34m:\u001b[0m\u001b[0;34m\u001b[0m\u001b[0;34m\u001b[0m\u001b[0m\n",
      "\u001b[0;31mTypeError\u001b[0m: int() argument must be a string, a bytes-like object or a number, not 'list'"
     ]
    }
   ],
   "source": [
    "def update_state():\n",
    "\n",
    "    newly_infected.a = False\n",
    "\n",
    "    removed.a = False\n",
    "\n",
    "\n",
    "    # visit the nodes in random order\n",
    "\n",
    "    vs = list(g.vertices())\n",
    "\n",
    "    shuffle(vs)\n",
    "\n",
    "    for v in vs:\n",
    "\n",
    "        if state[v] == I:\n",
    "\n",
    "            if random() < r:\n",
    "\n",
    "                state[v] = R\n",
    "\n",
    "        elif state[v] == S:\n",
    "\n",
    "            if random() < x:\n",
    "\n",
    "                state[v] = I\n",
    "\n",
    "            else:\n",
    "\n",
    "                ns = list(v.out_neighbors())\n",
    "\n",
    "                if len(ns) > 0:\n",
    "\n",
    "                    w = ns[randint(0, len(ns))]  # choose a random neighbor\n",
    "\n",
    "                    if state[w] == I:\n",
    "\n",
    "                        state[v] = I\n",
    "\n",
    "                        newly_infected[v] = True\n",
    "\n",
    "        elif random() < s:\n",
    "\n",
    "            state[v] = S\n",
    "\n",
    "        if state[v] == R:\n",
    "\n",
    "            removed[v] = True\n",
    "\n",
    "\n",
    "    # Filter out the recovered vertices\n",
    "\n",
    "    g.set_vertex_filter(removed, inverted=True)\n",
    "\n",
    "\n",
    "    # The following will force the re-drawing of the graph, and issue a\n",
    "\n",
    "    # re-drawing of the GTK window.\n",
    "\n",
    "    win.graph.regenerate_surface()\n",
    "\n",
    "    win.graph.queue_draw()\n",
    "\n",
    "\n",
    "    # if doing an offscreen animation, dump frame to disk\n",
    "\n",
    "    if offscreen:\n",
    "\n",
    "        global count\n",
    "\n",
    "        pixbuf = win.get_pixbuf()\n",
    "\n",
    "        pixbuf.savev(r'./frames/sirs%06d.png' % count, 'png', [], [])\n",
    "\n",
    "        if count > max_count:\n",
    "\n",
    "            sys.exit(0)\n",
    "\n",
    "        count += 1\n",
    "\n",
    "\n",
    "    # We need to return True so that the main loop will call this function more\n",
    "\n",
    "    # than once.\n",
    "\n",
    "    return True\n"
   ]
  },
  {
   "cell_type": "code",
   "execution_count": 83,
   "id": "6cb810e2-cb9f-4038-913d-45c67f9704e3",
   "metadata": {},
   "outputs": [
    {
     "data": {
      "text/plain": [
       "[<Vertex object with index '1' at 0x7f13490cc200>,\n",
       " <Vertex object with index '14' at 0x7f13490cc970>,\n",
       " <Vertex object with index '33' at 0x7f13490c9200>,\n",
       " <Vertex object with index '38' at 0x7f13490c9430>,\n",
       " <Vertex object with index '39' at 0x7f13490c94a0>,\n",
       " <Vertex object with index '45' at 0x7f13490c9740>,\n",
       " <Vertex object with index '47' at 0x7f13490c9820>,\n",
       " <Vertex object with index '50' at 0x7f13490c9970>,\n",
       " <Vertex object with index '72' at 0x7f13490c8350>,\n",
       " <Vertex object with index '75' at 0x7f13490c84a0>,\n",
       " <Vertex object with index '83' at 0x7f13490c8820>,\n",
       " <Vertex object with index '91' at 0x7f13490c8ba0>,\n",
       " <Vertex object with index '92' at 0x7f13490c8c10>,\n",
       " <Vertex object with index '97' at 0x7f13490c8e40>]"
      ]
     },
     "execution_count": 83,
     "metadata": {},
     "output_type": "execute_result"
    }
   ],
   "source": []
  },
  {
   "cell_type": "code",
   "execution_count": 118,
   "id": "8f9866ba-b6fe-4efa-ae6a-089c6c8d6ebd",
   "metadata": {},
   "outputs": [],
   "source": [
    "g.list_properties()"
   ]
  },
  {
   "cell_type": "code",
   "execution_count": 47,
   "id": "3ed5e55c-153c-4f51-a8c7-73ff9e37dbbb",
   "metadata": {},
   "outputs": [],
   "source": [
    "graph_draw(g, vertex_text=g.vertex_index, output=\"two-nodes.png\")\n",
    "fig = Image(filename=('two-nodes.png'))\n",
    "fig\n",
    "\n"
   ]
  },
  {
   "cell_type": "code",
   "execution_count": 39,
   "id": "e2362e6c-2607-4ec7-985c-67e6398a7d24",
   "metadata": {},
   "outputs": [],
   "source": [
    "g.save(\"my_graph.xml.gz\")\n",
    "g2 = load_graph(\"my_graph.xml.gz\")"
   ]
  },
  {
   "cell_type": "code",
   "execution_count": null,
   "id": "f3ddb6d0-3fb9-45e6-b9f6-e826b7081504",
   "metadata": {},
   "outputs": [],
   "source": []
  },
  {
   "cell_type": "code",
   "execution_count": null,
   "id": "a67dd862-1355-47b9-b0cb-adcea9048a51",
   "metadata": {},
   "outputs": [],
   "source": []
  }
 ],
 "metadata": {
  "kernelspec": {
   "display_name": "Python 3 (ipykernel)",
   "language": "python",
   "name": "python3"
  },
  "language_info": {
   "codemirror_mode": {
    "name": "ipython",
    "version": 3
   },
   "file_extension": ".py",
   "mimetype": "text/x-python",
   "name": "python",
   "nbconvert_exporter": "python",
   "pygments_lexer": "ipython3",
   "version": "3.9.7"
  }
 },
 "nbformat": 4,
 "nbformat_minor": 5
}
