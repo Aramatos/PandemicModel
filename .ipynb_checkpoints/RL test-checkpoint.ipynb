{
 "cells": [
  {
   "cell_type": "code",
   "execution_count": 7,
   "id": "627f1e44",
   "metadata": {},
   "outputs": [],
   "source": [
    "from gym import Env\n",
    "from gym.envs.registration import EnvSpec\n",
    "import numpy as np\n",
    "from gym.spaces import MultiDiscrete,Box\n",
    "from graph_tool.all import *\n",
    "from stable_baselines3.common.evaluation import evaluate_policy\n",
    "from stable_baselines3.common.monitor import Monitor\n",
    "from makegraph import *\n",
    "import matplotlib.pyplot as plt\n",
    "import matplotlib as mpl"
   ]
  },
  {
   "cell_type": "code",
   "execution_count": 8,
   "id": "f75d7fff",
   "metadata": {},
   "outputs": [],
   "source": [
    "def simulatepandemic(self,actions):\n",
    "    action = np.divide(actions,np.sum(actions)) #relative availability of vaccine is calculated\n",
    "    action = np.multiply(action,self.vacc_sum)\n",
    "    if self.timestep == 0:\n",
    "        update_firststate(self.g,action)\n",
    "        #print('check')\n",
    "    else:\n",
    "        update_state(self.g,action)\n",
    "        #print('nocheck')\n",
    "    erate = extract_economy(self.g)\n",
    "    self.state = graph_to_matrix(self.g)\n",
    "    self.timestep += 1\n",
    "    \n",
    "    return self.state,erate\n",
    "\n",
    "def initializepandemic(self):\n",
    "    self.g = make_graph(self.size,self.distribution)\n",
    "    self.state = graph_to_matrix(self.g)\n",
    "    return self.state"
   ]
  },
  {
   "cell_type": "code",
   "execution_count": 9,
   "id": "1a244482",
   "metadata": {},
   "outputs": [],
   "source": [
    "#the class is needed if we want to sample more frequently\n",
    "from stable_baselines3.common.callbacks import BaseCallback\n",
    "'''\n",
    "https://github.com/DLR-RM/stable-baselines3/issues/309\n",
    "\n",
    "^^^^^^ this was very helpful ^^^^^^\n",
    "'''\n",
    "class TensorboardCallback(BaseCallback):\n",
    "    \"\"\"\n",
    "    Custom callback for plotting additional values in tensorboard.\n",
    "    \"\"\"\n",
    "\n",
    "    def __init__(self, verbose=1):\n",
    "        super(TensorboardCallback, self).__init__(verbose)\n",
    "        self.cum_rew_1 = 0\n",
    "        #self.rew_1 = 0\n",
    "        \n",
    "    def _on_rollout_end(self) -> None:\n",
    "        self.logger.record(\"rollout/cum_rew_1\", self.cum_rew_1)\n",
    "        #self.logger.record(\"rollout/rew_1\", self.rew_1)\n",
    "        # reset var once recorded\n",
    "        self.cum_rew_1 = 0\n",
    "        self.rew_1 = 0\n",
    "        \n",
    "\n",
    "    def _on_step(self) -> bool:\n",
    "        # Log scalar value (here a random variable)\n",
    "        #value = np.random.random()\n",
    "        #self.logger.record('random_value', value)\n",
    "        \n",
    "        #self.logger.dump(self.num_timesteps)\n",
    "        self.cum_rew_1 += self.training_env.get_attr(\"reward\")[0]\n",
    "        #self.rew_1 = self.training_env.get_attr(\"reward_1\")[0]\n",
    "        return True"
   ]
  },
  {
   "cell_type": "code",
   "execution_count": 10,
   "id": "efb27396",
   "metadata": {},
   "outputs": [],
   "source": [
    "\n",
    "class PanEnv(Env):\n",
    "    def __init__(self,size,distribution):\n",
    "        self.size = size #original population size\n",
    "        self.spec = EnvSpec('GymEnv-v0')\n",
    "        self.action_space = MultiDiscrete(nvec=[10,10,10,10,10,10,10,10,10,10,10,10,10,10,10,10,10,10,10,10])\n",
    "        self.observation_space = Box(low=-np.inf,high=np.inf,shape=[self.size,7])\n",
    "        \n",
    "        \n",
    "        self.distribution = distribution #age distribution, country name as string\n",
    "        self.g = make_graph(self.size,self.distribution)\n",
    "        \n",
    "        self.vacc_sum = 2*round(size/20) #available vaccines per timestep for all age groups\n",
    "                \n",
    "        #state observation as matrix\n",
    "        self.state = graph_to_matrix(self.g)\n",
    "        \n",
    "        self.timestep = 0\n",
    "    def step(self,actions):\n",
    "    \n",
    "        result = simulatepandemic(self,actions)\n",
    "        state = result[0]\n",
    "        #E_t = np.sum(state[:,0])+np.sum(state[:,2])+np.sum(state[:,3])\n",
    "        #observation (object): agent's observation of the current environment\n",
    "        #r ans s taken from nature paper\n",
    "        E_t = result[1]\n",
    "        r = 8\n",
    "        s = 5\n",
    "        \n",
    "        total_population = self.size\n",
    "        \n",
    "        active_cases = np.sum(state[:,1])+np.sum(state[:,4])\n",
    "        #A_t and D_t from nature paper\n",
    "        \n",
    "        A_t = (active_cases/total_population) * 100\n",
    "        \n",
    "        D_t = np.sum(state[:,5])/total_population\n",
    "        #self.reward_1 =  E_t * np.exp(-r * A_t) - s * D_t\n",
    "        \n",
    "        reward = E_t/total_population - 2*D_t\n",
    "        \n",
    "       \n",
    "        #print(reward)\n",
    "        #reward (float) : amount of reward returned after previous action\n",
    "        #negative reward: punishment > change weights a lot, push away from causing weights, positive rewards pull\n",
    "        #do reward compared to reward from previous step\n",
    "        #naive example: reward = -sum(infected) > we want a reward where the cumulative sum of infections until end\n",
    "        #is minimized\n",
    "        #exp. solution: store informatiop_n in self, summed infections, normalized by time\n",
    "        done = False\n",
    "        if((self.timestep > 50) or np.sum(self.state[:,1])==0):\n",
    "            done = True\n",
    "        #done (bool): episode is done after 20 timesteps or when there are no longer infected agents\n",
    "        info = {}\n",
    "        #info (dict): contains auxiliary diagnostic information (helpful for debugging, and sometimes learning)'''\n",
    "        return state, reward, done, info\n",
    "    def reset(self):\n",
    "        #returns initial state\n",
    "        self.timestep = 0\n",
    "        self.state = initializepandemic(self)\n",
    "        return self.state"
   ]
  },
  {
   "cell_type": "code",
   "execution_count": 5,
   "id": "323e155b",
   "metadata": {},
   "outputs": [],
   "source": [
    "from stable_baselines3.common.env_checker import check_env\n",
    "#check_env(Env)"
   ]
  },
  {
   "cell_type": "code",
   "execution_count": 6,
   "id": "aee4606a",
   "metadata": {},
   "outputs": [],
   "source": [
    "#matrix representation:\n",
    "#[S, I, R, Sv, Iv, D]"
   ]
  },
  {
   "cell_type": "code",
   "execution_count": 7,
   "id": "fae3c32c",
   "metadata": {},
   "outputs": [],
   "source": [
    "env = PanEnv(size=1000,distribution='Japan')\n",
    "x2=env.reset()"
   ]
  },
  {
   "cell_type": "code",
   "execution_count": null,
   "id": "d8a4d82c",
   "metadata": {},
   "outputs": [],
   "source": []
  },
  {
   "cell_type": "code",
   "execution_count": 8,
   "id": "b973eb29",
   "metadata": {},
   "outputs": [],
   "source": [
    "#env.step(np.random.rand(20))"
   ]
  },
  {
   "cell_type": "code",
   "execution_count": null,
   "id": "d8a76275",
   "metadata": {},
   "outputs": [],
   "source": []
  },
  {
   "cell_type": "code",
   "execution_count": 9,
   "id": "d43a1858",
   "metadata": {},
   "outputs": [
    {
     "name": "stdout",
     "output_type": "stream",
     "text": [
      "[5. 5. 5. 5. 5. 5. 5. 5. 5. 5. 5. 5. 5. 5. 5. 5. 5. 5. 5. 5.]\n"
     ]
    }
   ],
   "source": [
    "actions = np.full(20,1)\n",
    "action = np.divide(actions,np.sum(actions)) #relative availability of vaccine is calculated\n",
    "action = np.multiply(action,env.vacc_sum)\n",
    "for i in np.arange(0,action.size-1):\n",
    "        num = action[i]\n",
    "        action[i] = round(num)\n",
    "        action[i+1] += num-action[i]\n",
    "print(action)"
   ]
  },
  {
   "cell_type": "code",
   "execution_count": 10,
   "id": "f6b04c27",
   "metadata": {},
   "outputs": [
    {
     "data": {
      "text/plain": [
       "(array([[0., 1., 0., ..., 0., 0., 0.],\n",
       "        [0., 1., 0., ..., 0., 0., 0.],\n",
       "        [0., 1., 0., ..., 0., 0., 0.],\n",
       "        ...,\n",
       "        [0., 1., 0., ..., 0., 0., 0.],\n",
       "        [0., 1., 0., ..., 0., 0., 0.],\n",
       "        [0., 1., 0., ..., 0., 0., 0.]]),\n",
       " 0.047,\n",
       " False,\n",
       " {})"
      ]
     },
     "execution_count": 10,
     "metadata": {},
     "output_type": "execute_result"
    }
   ],
   "source": [
    "env.step(actions)"
   ]
  },
  {
   "cell_type": "code",
   "execution_count": 11,
   "id": "fd4367ac",
   "metadata": {},
   "outputs": [
    {
     "name": "stdout",
     "output_type": "stream",
     "text": [
      "422.0 527.0 0.0 51.0 0.0\n"
     ]
    }
   ],
   "source": [
    "print(np.sum(env.state[:,0]),np.sum(env.state[:,1]),np.sum(env.state[:,2]),np.sum(env.state[:,3]),np.sum(env.state[:,4]),)"
   ]
  },
  {
   "cell_type": "code",
   "execution_count": 12,
   "id": "6daad066",
   "metadata": {},
   "outputs": [
    {
     "name": "stderr",
     "output_type": "stream",
     "text": [
      "2021-12-04 17:44:06.125789: W tensorflow/stream_executor/platform/default/dso_loader.cc:64] Could not load dynamic library 'libcudart.so.11.0'; dlerror: libcudart.so.11.0: cannot open shared object file: No such file or directory\n",
      "2021-12-04 17:44:06.125812: I tensorflow/stream_executor/cuda/cudart_stub.cc:29] Ignore above cudart dlerror if you do not have a GPU set up on your machine.\n"
     ]
    },
    {
     "name": "stdout",
     "output_type": "stream",
     "text": [
      "Using cpu device\n",
      "Wrapping the env in a DummyVecEnv.\n"
     ]
    }
   ],
   "source": [
    "from stable_baselines3 import PPO\n",
    "from stable_baselines3.common.env_util import make_vec_env\n",
    "from stable_baselines3.common.vec_env import DummyVecEnv, SubprocVecEnv\n",
    "\n",
    "#tensorflow for graphs\n",
    "import tensorflow as tf\n",
    "from stable_baselines3.common.evaluation import evaluate_policy\n",
    "env = PanEnv(size=100,distribution='Japan')\n",
    "log_dir = \"./gym/\"\n",
    "env = Monitor(env,log_dir)\n",
    "model = PPO(\"MlpPolicy\",env,verbose=1)\n",
    "mean_reward, std_reward = evaluate_policy(model, env, n_eval_episodes=100)"
   ]
  },
  {
   "cell_type": "code",
   "execution_count": 13,
   "id": "6d40f279",
   "metadata": {},
   "outputs": [
    {
     "name": "stdout",
     "output_type": "stream",
     "text": [
      "mean_reward:1.52 +/- 0.32\n"
     ]
    }
   ],
   "source": [
    "print(f\"mean_reward:{mean_reward:.2f} +/- {std_reward:.2f}\")"
   ]
  },
  {
   "cell_type": "code",
   "execution_count": 14,
   "id": "d8db4dd7",
   "metadata": {},
   "outputs": [],
   "source": [
    "\n",
    "# Parallel environments\n",
    "\n",
    "env = DummyVecEnv([lambda: Monitor(PanEnv(size=1000,distribution='Japan'),log_dir)])"
   ]
  },
  {
   "cell_type": "code",
   "execution_count": null,
   "id": "23774802",
   "metadata": {},
   "outputs": [],
   "source": []
  },
  {
   "cell_type": "code",
   "execution_count": null,
   "id": "49a3376c",
   "metadata": {},
   "outputs": [
    {
     "name": "stdout",
     "output_type": "stream",
     "text": [
      "---------------------------------\n",
      "| rollout/           |          |\n",
      "|    ep_len_mean     | 3.73     |\n",
      "|    ep_rew_mean     | 1.58     |\n",
      "| time/              |          |\n",
      "|    fps             | 54       |\n",
      "|    iterations      | 1        |\n",
      "|    time_elapsed    | 37       |\n",
      "|    total_timesteps | 2048     |\n",
      "---------------------------------\n",
      "----------------------------------------\n",
      "| rollout/                |            |\n",
      "|    ep_len_mean          | 3.68       |\n",
      "|    ep_rew_mean          | 1.56       |\n",
      "| time/                   |            |\n",
      "|    fps                  | 52         |\n",
      "|    iterations           | 2          |\n",
      "|    time_elapsed         | 78         |\n",
      "|    total_timesteps      | 4096       |\n",
      "| train/                  |            |\n",
      "|    approx_kl            | 0.05453132 |\n",
      "|    clip_fraction        | 0.527      |\n",
      "|    clip_range           | 0.2        |\n",
      "|    entropy_loss         | -46        |\n",
      "|    explained_variance   | -1.44      |\n",
      "|    learning_rate        | 0.0003     |\n",
      "|    loss                 | -0.148     |\n",
      "|    n_updates            | 10         |\n",
      "|    policy_gradient_loss | -0.122     |\n",
      "|    value_loss           | 0.094      |\n",
      "----------------------------------------\n",
      "----------------------------------------\n",
      "| rollout/                |            |\n",
      "|    ep_len_mean          | 3.72       |\n",
      "|    ep_rew_mean          | 1.55       |\n",
      "| time/                   |            |\n",
      "|    fps                  | 55         |\n",
      "|    iterations           | 3          |\n",
      "|    time_elapsed         | 110        |\n",
      "|    total_timesteps      | 6144       |\n",
      "| train/                  |            |\n",
      "|    approx_kl            | 0.06843859 |\n",
      "|    clip_fraction        | 0.554      |\n",
      "|    clip_range           | 0.2        |\n",
      "|    entropy_loss         | -46        |\n",
      "|    explained_variance   | 0.513      |\n",
      "|    learning_rate        | 0.0003     |\n",
      "|    loss                 | -0.139     |\n",
      "|    n_updates            | 20         |\n",
      "|    policy_gradient_loss | -0.122     |\n",
      "|    value_loss           | 0.068      |\n",
      "----------------------------------------\n",
      "----------------------------------------\n",
      "| rollout/                |            |\n",
      "|    ep_len_mean          | 3.78       |\n",
      "|    ep_rew_mean          | 1.61       |\n",
      "| time/                   |            |\n",
      "|    fps                  | 59         |\n",
      "|    iterations           | 4          |\n",
      "|    time_elapsed         | 136        |\n",
      "|    total_timesteps      | 8192       |\n",
      "| train/                  |            |\n",
      "|    approx_kl            | 0.07461901 |\n",
      "|    clip_fraction        | 0.569      |\n",
      "|    clip_range           | 0.2        |\n",
      "|    entropy_loss         | -46        |\n",
      "|    explained_variance   | 0.525      |\n",
      "|    learning_rate        | 0.0003     |\n",
      "|    loss                 | -0.129     |\n",
      "|    n_updates            | 30         |\n",
      "|    policy_gradient_loss | -0.119     |\n",
      "|    value_loss           | 0.0685     |\n",
      "----------------------------------------\n"
     ]
    }
   ],
   "source": [
    "#env = Monitor(env,log_dir)\n",
    "#model = PPO(\"MlpPolicy\", env, verbose=1,tensorboard_log=\"./ppo_name_tensorboard/\") #multilayer\n",
    "#env = PanEnv(size=100,distribution='Japan');\n",
    "#model = PPO(\"MlpPolicy\", env, verbose=1) #multilayer\n",
    "rewards_callback = TensorboardCallback()\n",
    "model.learn(total_timesteps=25000,tb_log_name=\"first_run\") #training loop\n",
    "#model.learn(total_timesteps=25000) #training loop\n",
    "\n",
    "#model.save(\"Japan_death\")\n",
    "\n",
    "#del model # remove to demonstrate saving and loading\n",
    "\n",
    "#Japan_death = PPO.load(\"Japan_death\")\n",
    "#https://stable-baselines.readthedocs.io/en/master/guide/tensorboard.html?highlight=tensorboard\n",
    "#^^^ tensorboard for displaying things, but I am stuck, upd: i guess it works now ^^^"
   ]
  },
  {
   "cell_type": "code",
   "execution_count": null,
   "id": "e319510c",
   "metadata": {},
   "outputs": [],
   "source": [
    "model.save(\"Japan_economy_reward\")\n",
    "mean_reward, std_reward = evaluate_policy(model, env,n_eval_episodes=100)\n",
    "print(f\"mean_reward:{mean_reward:.2f} +/- {std_reward:.2f}\")"
   ]
  },
  {
   "cell_type": "code",
   "execution_count": null,
   "id": "b9cc44cc-2d0b-449e-bce8-92717b4f5bc0",
   "metadata": {},
   "outputs": [],
   "source": [
    "model = PPO(\"MlpPolicy\", env, verbose=1,tensorboard_log=\"./ppo_name_tensorboard/\") #multilayer\n",
    "mean_reward, std_reward = evaluate_policy(model, env=PanEnv(size=100,distribution='Japan'), n_eval_episodes=100)\n",
    "print(f\"mean_reward:{mean_reward:.2f} +/- {std_reward:.2f}\")"
   ]
  },
  {
   "cell_type": "code",
   "execution_count": null,
   "id": "d62b7b18",
   "metadata": {},
   "outputs": [],
   "source": [
    "#after training, reward should have improved\n",
    "mean_reward, std_reward = evaluate_policy(Japan_death, env=PanEnv(size=100,distribution='Japan'), n_eval_episodes=100)\n",
    "print(f\"mean_reward:{mean_reward:.2f} +/- {std_reward:.2f}\")"
   ]
  },
  {
   "cell_type": "code",
   "execution_count": null,
   "id": "547e096d",
   "metadata": {},
   "outputs": [],
   "source": [
    "#model.save(\"Japan_death\")\n",
    "Japan_death = PPO.load(\"Japan_economy_reward\")"
   ]
  },
  {
   "cell_type": "code",
   "execution_count": null,
   "id": "964e4953",
   "metadata": {},
   "outputs": [],
   "source": [
    "env = PanEnv(size=100,distribution='Japan')\n",
    "#after training, reward should have improved\n",
    "log_dir = \"./gym/\"\n",
    "env = Monitor(env,log_dir)\n",
    "mean_reward, std_reward = evaluate_policy(Japan_death, env, n_eval_episodes=100)\n",
    "print(f\"mean_reward:{mean_reward:.2f} +/- {std_reward:.2f}\")"
   ]
  },
  {
   "cell_type": "code",
   "execution_count": null,
   "id": "7b91495c",
   "metadata": {},
   "outputs": [],
   "source": [
    "env = PanEnv(size=100,distribution='Japan')\n",
    "obs = env.reset()\n",
    "done = False\n",
    "obs_storage = []\n",
    "rewards_storage = []\n",
    "action_storage = []\n",
    "\n",
    "\n",
    "while not done:\n",
    "    action, _states = Japan_death.predict(obs)\n",
    "    \n",
    "    \n",
    "    obs, rewards, done, info = env.step(action)\n",
    "    obs_storage.append(obs)\n",
    "    infected = np.nonzero(obs[:,1])\n",
    "    l=np.size(infected)/100\n",
    "    print (l)\n",
    "    rewards_storage.append(rewards)\n",
    "    action_storage.append(action)\n",
    "\n",
    "from numpy import array\n",
    "from scipy.cluster.vq import vq, kmeans, whiten\n",
    "\n"
   ]
  },
  {
   "cell_type": "code",
   "execution_count": 13,
   "id": "a00dcea4",
   "metadata": {},
   "outputs": [],
   "source": [
    "def get_sums(obs,index):\n",
    "    sums = []\n",
    "    for i in np.arange(0,len(obs)):\n",
    "        sums.append(np.sum(obs[i][:,index]))\n",
    "    return sums\n",
    "def show_pandemic(obs):\n",
    "    all_sums = []\n",
    "    for i in np.arange(0,7):\n",
    "        all_sums.append(get_sums(obs,i))\n",
    "    sval,ival,rval,vsval,vival,dval,economy_list = all_sums[0],all_sums[1],all_sums[2],all_sums[3],all_sums[4],all_sums[5],all_sums[6]\n",
    "    tlist = np.arange(0,len(obs))\n",
    "    plt.figure()\n",
    "    plt.plot(tlist, sval, label = \"S\")\n",
    "    plt.plot(tlist, rval, label = \"R\")\n",
    "    plt.plot(tlist, vsval, label = \"Sv\")\n",
    "    plt.plot(tlist, vival, label = \"Iv\")\n",
    "    plt.plot(tlist, ival, label = \"I\")\n",
    "    plt.plot(tlist, dval, label = \"D\")\n",
    "    plt.plot(tlist,economy_list, label = \"Economy\")\n",
    "    plt.legend()\n",
    "    plt.show()\n",
    "def show_actions(actions):\n",
    "    eps = len(actions)\n",
    "    \n",
    "    color_pos = np.linspace(0,1,eps)\n",
    "    cmap = mpl.cm.get_cmap('inferno')\n",
    "    colors = [cmap(pos) for pos in color_pos]\n",
    "    \n",
    "    \n",
    "    plt.figure()\n",
    "    for i in np.arange(0,eps):\n",
    "        #hist = np.histogram(actions[i],bins = np.linspace(1,21,20))\n",
    "        plt.plot(np.linspace(1,21,20),actions[i]/np.sum(actions[i]),color=colors[i],label='t = str(i)')\n",
    "    plt.show()\n",
    "\n",
    "def show_deaths(g):\n",
    "    ded=[]\n",
    "    for i in range(20):\n",
    "        ded.append(0)\n",
    "    vs = g.vertices()\n",
    "    for v in vs:\n",
    "        if g.vp.state[v] == [0.8, 0, 0, 0.6]:\n",
    "            ded[g.vp.age[v]-1] += 1\n",
    "    plt.figure()\n",
    "    plt.bar(np.linspace(1,21,20), ded)\n",
    "    plt.show()\n",
    "        "
   ]
  },
  {
   "cell_type": "code",
   "execution_count": 14,
   "id": "5f6dbe59",
   "metadata": {},
   "outputs": [
    {
     "ename": "NameError",
     "evalue": "name 'action_storage' is not defined",
     "output_type": "error",
     "traceback": [
      "\u001b[0;31m---------------------------------------------------------------------------\u001b[0m",
      "\u001b[0;31mNameError\u001b[0m                                 Traceback (most recent call last)",
      "\u001b[0;32m/tmp/ipykernel_10127/1273627163.py\u001b[0m in \u001b[0;36m<module>\u001b[0;34m\u001b[0m\n\u001b[0;32m----> 1\u001b[0;31m \u001b[0mprint\u001b[0m\u001b[0;34m(\u001b[0m\u001b[0mlen\u001b[0m\u001b[0;34m(\u001b[0m\u001b[0maction_storage\u001b[0m\u001b[0;34m)\u001b[0m\u001b[0;34m)\u001b[0m\u001b[0;34m\u001b[0m\u001b[0;34m\u001b[0m\u001b[0m\n\u001b[0m",
      "\u001b[0;31mNameError\u001b[0m: name 'action_storage' is not defined"
     ]
    }
   ],
   "source": [
    "print(len(action_storage))"
   ]
  },
  {
   "cell_type": "code",
   "execution_count": 15,
   "id": "b1c7279f",
   "metadata": {},
   "outputs": [
    {
     "data": {
      "image/png": "[encoded data removed]",
      "text/plain": [
       "<Figure size 432x288 with 1 Axes>"
      ]
     },
     "metadata": {
      "needs_background": "light"
     },
     "output_type": "display_data"
    }
   ],
   "source": [
    "show_pandemic(obs_storage)\n",
    "show_actions(action_storage)\n",
    "env = PanEnv(size=100,distribution='Japan')\n",
    "show_deaths(env.g)"
   ]
  },
  {
   "cell_type": "markdown",
   "id": "7761ca1c",
   "metadata": {},
   "source": [
    "# Modelling with fixed policy, no RL:"
   ]
  },
  {
   "cell_type": "code",
   "execution_count": null,
   "id": "32d524ed",
   "metadata": {},
   "outputs": [],
   "source": [
    "test_env_J = PanEnv(size=1000,distribution='Japan')\n",
    "test_env_S = PanEnv(size=1000,distribution='Switzerland')\n",
    "test_env_N = PanEnv(size=1000,distribution='Niger')\n",
    "\n",
    "#define fixed policy: distribute all vaccines evenly for population >65 years\n",
    "action_ = [0,0,0,0,0,0,0,0,0,0,0,0,0,10,10,10,10,10,10,10]"
   ]
  },
  {
   "cell_type": "code",
   "execution_count": null,
   "id": "8e2c5064",
   "metadata": {},
   "outputs": [],
   "source": [
    "J_states = {}\n",
    "J_rewards = {}\n",
    "S_states = {}\n",
    "S_rewards = {}\n",
    "N_states = {}\n",
    "N_rewards = {}"
   ]
  },
  {
   "cell_type": "code",
   "execution_count": null,
   "id": "320708a0",
   "metadata": {},
   "outputs": [],
   "source": [
    "def simulate_fixedaction(environment,action,runs,statesdict,rewardsdict):\n",
    "    for k in np.arange(1,runs+1):\n",
    "        states = []\n",
    "        rewards = []\n",
    "        done = False\n",
    "        while not done:\n",
    "            state, reward, done, _ = environment.step(action)\n",
    "            #print(environment.timestep,k)\n",
    "            states.append(state)\n",
    "            rewards.append(reward)\n",
    "        statesdict[k] = states\n",
    "        rewardsdict[k] = rewards\n",
    "        environment.reset()\n",
    "\n",
    "def get_meandead(statesdict):\n",
    "    ded = np.zeros(len(statesdict))\n",
    "    for k in np.arange(1,len(statesdict)+1):\n",
    "        runs = len(statesdict[k])\n",
    "        ded[k-1] = np.sum(statesdict[k][runs-1][:,5])\n",
    "        #print(ded[k-1])\n",
    "    return np.mean(ded),np.std(ded)\n",
    "\n",
    "def get_meaninf(statesdict):\n",
    "    inf = np.zeros(len(statesdict))\n",
    "    for k in np.arange(1,len(statesdict)+1):\n",
    "        runs = len(statesdict[k])\n",
    "        #to find the sum of people that were infected over one epoch, we count dead, recovered and infected\n",
    "        #individuals for the final state\n",
    "        inf[k-1] = np.sum(statesdict[k][runs-1][:,5]) + np.sum(statesdict[k][runs-1][:,2])\n",
    "        inf[k-1] += np.sum(statesdict[k][runs-1][:,1]) + np.sum(statesdict[k][runs-1][:,4])\n",
    "        #print(ded[k-1])\n",
    "    return np.mean(inf),np.std(inf)\n",
    "\n",
    "def get_meaneco(statesdict):\n",
    "    economy = [0,0,0,0,1,1,1,1,1,1,1,1,1,1,1,0,0,0,0]\n",
    "    max = 0\n",
    "    #ecurr is current value calculated over people who are NOT dead, NOT infected and NOT infected vaccinated\n",
    "    ecurr = 0\n",
    "    for v in g.vertices():\n",
    "        emax += economy[g.vp.age[v]-1]\n",
    "        if g.vp.state[v]!= D:\n",
    "            if g.vp.state[v]!= I and g.vp.state[v]!=Iv:\n",
    "                ecurr += economy[g.vp.age[v]-1]\n",
    "    return ecurr/emax\n",
    "\n",
    "def get_meanobs(statesdict):\n",
    "    obs = []\n",
    "    for t in np.arange(0,20):\n",
    "        state = np.zeros((1000,7))\n",
    "        for k in np.arange(1,len(statesdict)+1):\n",
    "            if t < len(statesdict[k]):\n",
    "                state = np.add(state,statesdict[k][t])\n",
    "        obs.append(state)\n",
    "    return np.divide(obs,len(statesdict))"
   ]
  },
  {
   "cell_type": "code",
   "execution_count": null,
   "id": "05b8f3ac",
   "metadata": {},
   "outputs": [],
   "source": [
    "obs = get_meanobs(J_states)\n",
    "show_pandemic(J_states[7])"
   ]
  },
  {
   "cell_type": "code",
   "execution_count": null,
   "id": "a2c42731",
   "metadata": {},
   "outputs": [],
   "source": [
    "for k in np.arange(1,len(J_states)+1):\n",
    "    print(len(J_states[k]))"
   ]
  },
  {
   "cell_type": "code",
   "execution_count": null,
   "id": "32662326",
   "metadata": {},
   "outputs": [],
   "source": [
    "simulate_fixedaction(test_env_J,action_,100,J_states,J_rewards)\n",
    "simulate_fixedaction(test_env_S,action_,100,S_states,S_rewards)\n",
    "simulate_fixedaction(test_env_N,action_,100,N_states,N_rewards)"
   ]
  },
  {
   "cell_type": "code",
   "execution_count": null,
   "id": "b907e4ed",
   "metadata": {},
   "outputs": [],
   "source": [
    "J_dead = get_meandead(J_states)\n",
    "S_dead = get_meandead(S_states)\n",
    "N_dead = get_meandead(N_states)\n",
    "\n",
    "print(f\" Japan mean dead:{J_dead[0]:.2f} +/- {J_dead[1]:.2f}\")\n",
    "print(f\" Niger mean dead:{N_dead[0]:.2f} +/- {N_dead[1]:.2f}\")\n",
    "print(f\" Switzerland mean dead:{S_dead[0]:.2f} +/- {S_dead[1]:.2f}\")"
   ]
  },
  {
   "cell_type": "code",
   "execution_count": null,
   "id": "53924e75",
   "metadata": {},
   "outputs": [],
   "source": [
    "J_inf = get_meaninf(J_states)\n",
    "S_inf = get_meaninf(S_states)\n",
    "N_inf = get_meaninf(N_states)\n",
    "\n",
    "print(f\" Japan mean infected:{J_inf[0]:.2f} +/- {J_inf[1]:.2f}\")\n",
    "print(f\" Niger mean infected:{N_inf[0]:.2f} +/- {N_inf[1]:.2f}\")\n",
    "print(f\" Switzerland mean infected:{S_inf[0]:.2f} +/- {S_inf[1]:.2f}\")"
   ]
  },
  {
   "cell_type": "code",
   "execution_count": null,
   "id": "772e940e",
   "metadata": {},
   "outputs": [],
   "source": []
  }
 ],
 "metadata": {
  "celltoolbar": "Raw Cell Format",
  "kernelspec": {
   "display_name": "Python 3 (ipykernel)",
   "language": "python",
   "name": "python3"
  },
  "language_info": {
   "codemirror_mode": {
    "name": "ipython",
    "version": 3
   },
   "file_extension": ".py",
   "mimetype": "text/x-python",
   "name": "python",
   "nbconvert_exporter": "python",
   "pygments_lexer": "ipython3",
   "version": "3.9.7"
  }
 },
 "nbformat": 4,
 "nbformat_minor": 5
}
