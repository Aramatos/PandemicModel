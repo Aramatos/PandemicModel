{
 "cells": [
  {
   "cell_type": "code",
   "execution_count": 1,
   "id": "528c5c04",
   "metadata": {},
   "outputs": [],
   "source": [
    "from gym import Env\n",
    "from gym.envs.registration import EnvSpec\n",
    "import numpy as np\n",
    "from gym.spaces import MultiDiscrete,Box\n",
    "from graph_tool.all import *\n",
    "from stable_baselines3.common.evaluation import evaluate_policy\n",
    "from stable_baselines3.common.monitor import Monitor\n",
    "from makegraph import *"
   ]
  },
  {
   "cell_type": "code",
   "execution_count": 2,
   "id": "8870702d",
   "metadata": {},
   "outputs": [],
   "source": [
    "def simulatepandemic(self,actions):\n",
    "    action = np.divide(actions,np.sum(actions)) #relative availability of vaccine is calculated\n",
    "    update_state(self.g,action)\n",
    "    self.state = graph_to_matrix(self.g)\n",
    "    self.timestep += 1\n",
    "    return self.state\n",
    "\n",
    "def initializepandemic(self):\n",
    "    self.g = make_graph(self.size,self.distribution)\n",
    "    self.state = graph_to_matrix(self.g)\n",
    "    return self.state"
   ]
  },
  {
   "cell_type": "code",
   "execution_count": null,
   "id": "efb3eb2a",
   "metadata": {},
   "outputs": [],
   "source": []
  },
  {
   "cell_type": "code",
   "execution_count": 3,
   "id": "e81cd525",
   "metadata": {},
   "outputs": [],
   "source": [
    "\n",
    "class PanEnv(Env):\n",
    "    def __init__(self,size,distribution):\n",
    "        self.size = size #population size\n",
    "        self.spec = EnvSpec('GymEnv-v0')\n",
    "        self.action_space = MultiDiscrete(nvec=[10,10,10,10,10,10,10,10,10,10,10,10,10,10,10,10,10,10,10,10])\n",
    "        self.observation_space = Box(low=-np.inf,high=np.inf,shape=[self.size,7])\n",
    "        \n",
    "        \n",
    "        self.distribution = distribution #age distribution, country name as string\n",
    "        self.g = make_graph(self.size,self.distribution)\n",
    "                \n",
    "        #state observation as matrix\n",
    "        self.state = graph_to_matrix(self.g)\n",
    "        \n",
    "        self.timestep = 1\n",
    "    def step(self,actions):\n",
    "        state = simulatepandemic(self,actions)\n",
    "        #observation (object): agent's observation of the current environment\n",
    "        self.reward_1 = -np.sum(state[:,5])\n",
    "        self.reward_2 = np.sum(state[:,6])\n",
    "        reward = self.reward_1\n",
    "        #print(reward)\n",
    "        #reward (float) : amount of reward returned after previous action\n",
    "        #negative reward: punishment > change weights a lot, push away from causing weights, positive rewards pull\n",
    "        #do reward compared to reward from previous step\n",
    "        #naive example: reward = -sum(infected) > we want a reward where the cumulative sum of infections until end\n",
    "        #is minimized\n",
    "        #exp. solution: store information in self, summed infections, normalized by time\n",
    "        done = False\n",
    "        if((self.timestep > 19) or np.sum(self.state[:,1])==0):\n",
    "            done = True\n",
    "        #done (bool): episode is done after 20 timesteps or when there are no longer infected agents\n",
    "        info = {}\n",
    "        #info (dict): contains auxiliary diagnostic information (helpful for debugging, and sometimes learning)'''\n",
    "        return state, reward, done, info\n",
    "    def reset(self):\n",
    "        #returns initial state\n",
    "        self.state = initializepandemic(self)\n",
    "        return self.state"
   ]
  },
  {
   "cell_type": "code",
   "execution_count": null,
   "id": "dd0c4b96",
   "metadata": {},
   "outputs": [],
   "source": []
  },
  {
   "cell_type": "code",
   "execution_count": 4,
   "id": "08a96fde",
   "metadata": {},
   "outputs": [],
   "source": [
    "from stable_baselines3.common.env_checker import check_env\n",
    "#check_env(Env)"
   ]
  },
  {
   "cell_type": "code",
   "execution_count": 5,
   "id": "e3275d41",
   "metadata": {},
   "outputs": [],
   "source": [
    "#matrix representation:\n",
    "#[S, I, R, Sv, Iv, D]"
   ]
  },
  {
   "cell_type": "code",
   "execution_count": 6,
   "id": "ca0a4c5d",
   "metadata": {},
   "outputs": [
    {
     "data": {
      "text/plain": [
       "array([[1., 0., 0., ..., 0., 0., 0.],\n",
       "       [1., 0., 0., ..., 0., 0., 0.],\n",
       "       [1., 0., 0., ..., 0., 0., 0.],\n",
       "       ...,\n",
       "       [1., 0., 0., ..., 0., 0., 0.],\n",
       "       [1., 0., 0., ..., 0., 0., 0.],\n",
       "       [1., 0., 0., ..., 0., 0., 0.]])"
      ]
     },
     "execution_count": 6,
     "metadata": {},
     "output_type": "execute_result"
    }
   ],
   "source": [
    "env = PanEnv(size=1000,distribution='Japan')\n",
    "env.reset()"
   ]
  },
  {
   "cell_type": "code",
   "execution_count": 7,
   "id": "9d90faab",
   "metadata": {},
   "outputs": [],
   "source": [
    "actions = np.full(20,1)"
   ]
  },
  {
   "cell_type": "code",
   "execution_count": 8,
   "id": "83f1932e",
   "metadata": {},
   "outputs": [
    {
     "data": {
      "text/plain": [
       "(array([[1., 0., 0., ..., 0., 0., 0.],\n",
       "        [1., 0., 0., ..., 0., 0., 0.],\n",
       "        [1., 0., 0., ..., 0., 0., 0.],\n",
       "        ...,\n",
       "        [1., 0., 0., ..., 0., 0., 0.],\n",
       "        [1., 0., 0., ..., 0., 0., 0.],\n",
       "        [1., 0., 0., ..., 0., 0., 0.]]),\n",
       " -0.0,\n",
       " True,\n",
       " {})"
      ]
     },
     "execution_count": 8,
     "metadata": {},
     "output_type": "execute_result"
    }
   ],
   "source": [
    "env.step(actions)"
   ]
  },
  {
   "cell_type": "code",
   "execution_count": 9,
   "id": "6daad066",
   "metadata": {},
   "outputs": [
    {
     "name": "stderr",
     "output_type": "stream",
     "text": [
      "2021-12-02 11:50:36.133648: W tensorflow/stream_executor/platform/default/dso_loader.cc:64] Could not load dynamic library 'libcudart.so.11.0'; dlerror: libcudart.so.11.0: cannot open shared object file: No such file or directory\n",
      "2021-12-02 11:50:36.133674: I tensorflow/stream_executor/cuda/cudart_stub.cc:29] Ignore above cudart dlerror if you do not have a GPU set up on your machine.\n"
     ]
    },
    {
     "name": "stdout",
     "output_type": "stream",
     "text": [
      "Using cpu device\n",
      "Wrapping the env in a DummyVecEnv.\n"
     ]
    }
   ],
   "source": [
    "from stable_baselines3 import PPO\n",
    "from stable_baselines3.common.env_util import make_vec_env\n",
    "from stable_baselines3.common.vec_env import DummyVecEnv, SubprocVecEnv\n",
    "from stable_baselines3.common.callbacks import BaseCallback\n",
    "#tensorflow for graphs\n",
    "import tensorflow as tf\n",
    "from stable_baselines3.common.evaluation import evaluate_policy\n",
    "env = PanEnv(size=1000,distribution='Japan')\n",
    "log_dir = \"./gym/\"\n",
    "env = Monitor(env,log_dir)\n",
    "model = PPO(\"MlpPolicy\",env,verbose=1)\n",
    "mean_reward, std_reward = evaluate_policy(model, env, n_eval_episodes=100)"
   ]
  },
  {
   "cell_type": "code",
   "execution_count": 10,
   "id": "7c4bc097",
   "metadata": {},
   "outputs": [
    {
     "name": "stdout",
     "output_type": "stream",
     "text": [
      "mean_reward:-22.25 +/- 154.07\n"
     ]
    }
   ],
   "source": [
    "print(f\"mean_reward:{mean_reward:.2f} +/- {std_reward:.2f}\")"
   ]
  },
  {
   "cell_type": "code",
   "execution_count": 11,
   "id": "0bb93d1c",
   "metadata": {},
   "outputs": [],
   "source": [
    "\n",
    "# Parallel environments\n",
    "\n",
    "env = DummyVecEnv([lambda: PanEnv(size=1000,distribution='Japan')])"
   ]
  },
  {
   "cell_type": "code",
   "execution_count": 12,
   "id": "48a00535-09a7-4718-998f-3e4134a2af10",
   "metadata": {},
   "outputs": [],
   "source": [
    "#the class is needed if we want to sample more frequently\n",
    "'''\n",
    "https://github.com/DLR-RM/stable-baselines3/issues/309\n",
    "\n",
    "^^^^^^ this was very helpful ^^^^^^\n",
    "'''\n",
    "class TensorboardCallback(BaseCallback):\n",
    "    \"\"\"\n",
    "    Custom callback for plotting additional values in tensorboard.\n",
    "    \"\"\"\n",
    "\n",
    "    def __init__(self, verbose=1):\n",
    "        super(TensorboardCallback, self).__init__(verbose)\n",
    "        self.cum_rew_1 = 0\n",
    "        #self.rew_1 = 0\n",
    "        \n",
    "    def _on_rollout_end(self) -> None:\n",
    "        self.logger.record(\"rollout/cum_rew_1\", self.cum_rew_1)\n",
    "        #self.logger.record(\"rollout/rew_1\", self.rew_1)\n",
    "        # reset var once recorded\n",
    "        self.cum_rew_1 = 0\n",
    "        self.rew_1 = 0\n",
    "        \n",
    "\n",
    "    def _on_step(self) -> bool:\n",
    "        # Log scalar value (here a random variable)\n",
    "        #value = np.random.random()\n",
    "        #self.logger.record('random_value', value)\n",
    "        \n",
    "        #self.logger.dump(self.num_timesteps)\n",
    "        self.cum_rew_1 += self.training_env.get_attr(\"reward_1\")[0]\n",
    "        #self.rew_1 = self.training_env.get_attr(\"reward_1\")[0]\n",
    "        return True"
   ]
  },
  {
   "cell_type": "code",
   "execution_count": null,
   "id": "fba18886-3c6b-453e-81eb-04df813d7940",
   "metadata": {},
   "outputs": [
    {
     "name": "stdout",
     "output_type": "stream",
     "text": [
      "Using cpu device\n",
      "Logging to ./ppo_name_tensorboard/first_run_39\n"
     ]
    }
   ],
   "source": [
    "model = PPO(\"MlpPolicy\", env, verbose=1,tensorboard_log=\"./ppo_name_tensorboard/\") #multilayer\n",
    "rewards_callback = TensorboardCallback()\n",
    "model.learn(total_timesteps=25000,tb_log_name=\"first_run\",callback=rewards_callback) #training loop\n",
    "#model.save(\"ppo_cartpole\")\n",
    "\n",
    "#del model # remove to demonstrate saving and loading\n",
    "\n",
    "#model = PPO.load(\"ppo_cartpole\")\n",
    "#https://stable-baselines.readthedocs.io/en/master/guide/tensorboard.html?highlight=tensorboard\n",
    "#^^^ tensorboard for displaying things, but I am stuck, upd: i guess it works now ^^^"
   ]
  },
  {
   "cell_type": "code",
   "execution_count": null,
   "id": "bad9c37a-b7e9-44d5-a73c-c23eabd297c1",
   "metadata": {},
   "outputs": [],
   "source": []
  },
  {
   "cell_type": "code",
   "execution_count": null,
   "id": "b9cc44cc-2d0b-449e-bce8-92717b4f5bc0",
   "metadata": {},
   "outputs": [],
   "source": []
  },
  {
   "cell_type": "code",
   "execution_count": null,
   "id": "287a03f8-a18b-42d6-a8de-ce69c630d2e9",
   "metadata": {},
   "outputs": [],
   "source": []
  },
  {
   "cell_type": "code",
   "execution_count": null,
   "id": "e16bf198",
   "metadata": {},
   "outputs": [],
   "source": [
    "model.save(\"ppo_1\")"
   ]
  },
  {
   "cell_type": "code",
   "execution_count": null,
   "id": "22877464",
   "metadata": {},
   "outputs": [],
   "source": [
    "gym.spaces??"
   ]
  },
  {
   "cell_type": "code",
   "execution_count": null,
   "id": "7678f328",
   "metadata": {},
   "outputs": [],
   "source": [
    "\n",
    "\n",
    "\n",
    "\n",
    "\n",
    "mean_reward, std_reward = evaluate_policy(model, env, n_eval_episodes=100)\n",
    "\n",
    "print(f\"mean_reward:{mean_reward:.2f} +/- {std_reward:.2f}\")"
   ]
  },
  {
   "cell_type": "code",
   "execution_count": null,
   "id": "0924720e",
   "metadata": {},
   "outputs": [],
   "source": [
    "obs = env.reset()\n",
    "dones = False\n",
    "while not dones:\n",
    "    action, _states = model.predict(obs)\n",
    "    obs, rewards, dones, info = env.step(action)"
   ]
  },
  {
   "cell_type": "code",
   "execution_count": null,
   "id": "e733298c",
   "metadata": {},
   "outputs": [],
   "source": [
    "#split into learning and testing\n",
    "model.learn(total_timesteps = 5000)\n",
    "# store/accumulate rewards"
   ]
  }
 ],
 "metadata": {
  "celltoolbar": "Raw Cell Format",
  "kernelspec": {
   "display_name": "Python 3 (ipykernel)",
   "language": "python",
   "name": "python3"
  },
  "language_info": {
   "codemirror_mode": {
    "name": "ipython",
    "version": 3
   },
   "file_extension": ".py",
   "mimetype": "text/x-python",
   "name": "python",
   "nbconvert_exporter": "python",
   "pygments_lexer": "ipython3",
   "version": "3.9.7"
  }
 },
 "nbformat": 4,
 "nbformat_minor": 5
}
