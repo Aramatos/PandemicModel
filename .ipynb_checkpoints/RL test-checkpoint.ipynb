{
 "cells": [
  {
   "cell_type": "code",
   "execution_count": 1,
   "id": "627f1e44",
   "metadata": {},
   "outputs": [],
   "source": [
    "from gym import Env\n",
    "from gym.envs.registration import EnvSpec\n",
    "import numpy as np\n",
    "from gym.spaces import MultiDiscrete,Box\n",
    "from graph_tool.all import *\n",
    "from stable_baselines3.common.evaluation import evaluate_policy\n",
    "from stable_baselines3.common.monitor import Monitor\n",
    "from makegraph import *\n",
    "import matplotlib.pyplot as plt\n",
    "import matplotlib as mpl"
   ]
  },
  {
   "cell_type": "code",
   "execution_count": 2,
   "id": "f75d7fff",
   "metadata": {},
   "outputs": [],
   "source": [
    "def simulatepandemic(self,actions):\n",
    "    action = np.divide(actions,np.sum(actions)) #relative availability of vaccine is calculated\n",
    "    update_state(self.g,action)\n",
    "    erate = extract_economy(self.g)\n",
    "    self.state = graph_to_matrix(self.g)\n",
    "    self.timestep += 1\n",
    "    \n",
    "    return self.state, erate\n",
    "\n",
    "def initializepandemic(self):\n",
    "    self.g = make_graph(self.size,self.distribution)\n",
    "    self.state = graph_to_matrix(self.g)\n",
    "    return self.state"
   ]
  },
  {
   "cell_type": "code",
   "execution_count": 3,
   "id": "1a244482",
   "metadata": {},
   "outputs": [],
   "source": [
    "#the class is needed if we want to sample more frequently\n",
    "from stable_baselines3.common.callbacks import BaseCallback\n",
    "'''\n",
    "https://github.com/DLR-RM/stable-baselines3/issues/309\n",
    "\n",
    "^^^^^^ this was very helpful ^^^^^^\n",
    "'''\n",
    "class TensorboardCallback(BaseCallback):\n",
    "    \"\"\"\n",
    "    Custom callback for plotting additional values in tensorboard.\n",
    "    \"\"\"\n",
    "\n",
    "    def __init__(self, verbose=1):\n",
    "        super(TensorboardCallback, self).__init__(verbose)\n",
    "        self.cum_rew_1 = 0\n",
    "        #self.rew_1 = 0\n",
    "        \n",
    "    def _on_rollout_end(self) -> None:\n",
    "        self.logger.record(\"rollout/cum_rew_1\", self.cum_rew_1)\n",
    "        self.logger.record(\"rollout/rew_1\", self.rew_1)\n",
    "        # reset var once recorded\n",
    "        self.cum_rew_1 = 0\n",
    "        self.rew_1 = 0\n",
    "        \n",
    "\n",
    "    def _on_step(self) -> bool:\n",
    "        # Log scalar value (here a random variable)\n",
    "        #value = np.random.random()\n",
    "        #self.logger.record('random_value', value)\n",
    "        \n",
    "        #self.logger.dump(self.num_timesteps)\n",
    "        self.cum_rew_1 += self.training_env.get_attr(\"reward_1\")[0]\n",
    "        self.rew_1 = self.training_env.get_attr(\"reward_1\")[0]\n",
    "        return True"
   ]
  },
  {
   "cell_type": "code",
   "execution_count": 4,
   "id": "efb27396",
   "metadata": {},
   "outputs": [],
   "source": [
    "\n",
    "class PanEnv(Env):\n",
    "    def __init__(self,size,distribution):\n",
    "        self.size = size #population size\n",
    "        self.spec = EnvSpec('GymEnv-v0')\n",
    "        self.action_space = MultiDiscrete(nvec=[10,10,10,10,10,10,10,10,10,10,10,10,10,10,10,10,10,10,10,10])\n",
    "        self.observation_space = Box(low=-np.inf,high=np.inf,shape=[self.size,7])\n",
    "        self.reward_1 = 0\n",
    "        \n",
    "        self.distribution = distribution #age distribution, country name as string\n",
    "        self.g = make_graph(self.size,self.distribution)\n",
    "                \n",
    "        #state observation as matrix\n",
    "        self.state = graph_to_matrix(self.g)\n",
    "        \n",
    "        self.timestep = 1\n",
    "    def step(self,actions):\n",
    "    \n",
    "        result = simulatepandemic(self,actions) \n",
    "        state = result[0]\n",
    "        E_t = result[1]\n",
    "        #E_t = np.sum(state[:,0])+np.sum(state[:,2])+np.sum(state[:,3])\n",
    "        #observation (object): agent's observation of the current environment\n",
    "        #r ans s taken from nature paper\n",
    "        r = 8\n",
    "        s = 5\n",
    "        \n",
    "        total_population = self.size\n",
    "        \n",
    "        active_cases = np.sum(state[:,1])+np.sum(state[:,4])\n",
    "        #A_t and D_t from nature paper\n",
    "        \n",
    "        A_t = (active_cases/total_population) * 100\n",
    "        \n",
    "        D_t = np.sum(state[:,5])/total_population\n",
    "        #reward =  E_t * np.exp(-r * A_t) - s * D_t\n",
    "        \n",
    "        reward = E_t\n",
    "        \n",
    "       \n",
    "        #print(reward)\n",
    "        #reward (float) : amount of reward returned after previous action\n",
    "        #negative reward: punishment > change weights a lot, push away from causing weights, positive rewards pull\n",
    "        #do reward compared to reward from previous step\n",
    "        #naive example: reward = -sum(infected) > we want a reward where the cumulative sum of infections until end\n",
    "        #is minimized\n",
    "        #exp. solution: store informatiop_n in self, summed infections, normalized by time\n",
    "        done = False\n",
    "        if((self.timestep > 19) or np.sum(self.state[:,1])+np.sum(self.state[:,4])==0):\n",
    "            done = True\n",
    "        #done (bool): episode is done after 20 timesteps or when there are no longer infected agents\n",
    "        info = {}\n",
    "        #info (dict): contains auxiliary diagnostic information (helpful for debugging, and sometimes learning)'''\n",
    "        return state, reward, done, info\n",
    "    def reset(self):\n",
    "        #returns initial state\n",
    "        self.timestep = 0\n",
    "        self.state = initializepandemic(self)\n",
    "        return self.state"
   ]
  },
  {
   "cell_type": "code",
   "execution_count": 5,
   "id": "323e155b",
   "metadata": {},
   "outputs": [],
   "source": [
    "from stable_baselines3.common.env_checker import check_env\n",
    "#check_env(Env)"
   ]
  },
  {
   "cell_type": "code",
   "execution_count": 6,
   "id": "aee4606a",
   "metadata": {},
   "outputs": [],
   "source": [
    "#matrix representation:\n",
    "#[S, I, R, Sv, Iv, D]"
   ]
  },
  {
   "cell_type": "code",
   "execution_count": 7,
   "id": "fae3c32c",
   "metadata": {},
   "outputs": [],
   "source": [
    "env = PanEnv(size=1000,distribution='Japan')\n",
    "x2=env.reset()"
   ]
  },
  {
   "cell_type": "code",
   "execution_count": 8,
   "id": "d8a4d82c",
   "metadata": {},
   "outputs": [
    {
     "data": {
      "text/plain": [
       "False"
      ]
     },
     "execution_count": 8,
     "metadata": {},
     "output_type": "execute_result"
    }
   ],
   "source": [
    "x1=env.reset()\n",
    "np.all(x1==x2)"
   ]
  },
  {
   "cell_type": "code",
   "execution_count": 9,
   "id": "b973eb29",
   "metadata": {},
   "outputs": [],
   "source": [
    "#env.step(np.random.rand(20))"
   ]
  },
  {
   "cell_type": "code",
   "execution_count": null,
   "id": "d8a76275",
   "metadata": {},
   "outputs": [],
   "source": []
  },
  {
   "cell_type": "code",
   "execution_count": 10,
   "id": "d43a1858",
   "metadata": {},
   "outputs": [],
   "source": [
    "actions = np.full(20,1)"
   ]
  },
  {
   "cell_type": "code",
   "execution_count": 11,
   "id": "f6b04c27",
   "metadata": {},
   "outputs": [],
   "source": [
    "#env.step(actions)"
   ]
  },
  {
   "cell_type": "code",
   "execution_count": 12,
   "id": "fd4367ac",
   "metadata": {},
   "outputs": [
    {
     "name": "stdout",
     "output_type": "stream",
     "text": [
      "100.0 0.0 0.0 0.0 0.0\n"
     ]
    }
   ],
   "source": [
    "print(np.sum(env.state[:,0]),np.sum(env.state[:,1]),np.sum(env.state[:,2]),np.sum(env.state[:,3]),np.sum(env.state[:,4]),)"
   ]
  },
  {
   "cell_type": "code",
   "execution_count": 13,
   "id": "b9591de2",
   "metadata": {},
   "outputs": [
    {
     "name": "stderr",
     "output_type": "stream",
     "text": [
      "2021-12-04 12:58:27.131989: W tensorflow/stream_executor/platform/default/dso_loader.cc:64] Could not load dynamic library 'libcudart.so.11.0'; dlerror: libcudart.so.11.0: cannot open shared object file: No such file or directory\n",
      "2021-12-04 12:58:27.132018: I tensorflow/stream_executor/cuda/cudart_stub.cc:29] Ignore above cudart dlerror if you do not have a GPU set up on your machine.\n"
     ]
    },
    {
     "name": "stdout",
     "output_type": "stream",
     "text": [
      "Using cpu device\n",
      "Wrapping the env in a DummyVecEnv.\n"
     ]
    }
   ],
   "source": [
    "from stable_baselines3 import PPO\n",
    "from stable_baselines3.common.env_util import make_vec_env\n",
    "from stable_baselines3.common.vec_env import DummyVecEnv, SubprocVecEnv\n",
    "\n",
    "#tensorflow for graphs\n",
    "import tensorflow as tf\n",
    "from stable_baselines3.common.evaluation import evaluate_policy\n",
    "env = PanEnv(size=100,distribution='Japan')\n",
    "log_dir = \"./gym/\"\n",
    "env = Monitor(env,log_dir)\n",
    "model = PPO(\"MlpPolicy\",env,verbose=1)\n",
    "mean_reward, std_reward = evaluate_policy(model, env, n_eval_episodes=100)"
   ]
  },
  {
   "cell_type": "code",
   "execution_count": 14,
   "id": "6d40f279",
   "metadata": {},
   "outputs": [
    {
     "name": "stdout",
     "output_type": "stream",
     "text": [
      "mean_reward:2.48 +/- 0.86\n"
     ]
    }
   ],
   "source": [
    "print(f\"mean_reward:{mean_reward:.2f} +/- {std_reward:.2f}\")"
   ]
  },
  {
   "cell_type": "code",
   "execution_count": 15,
   "id": "d8db4dd7",
   "metadata": {},
   "outputs": [],
   "source": [
    "\n",
    "# Parallel environments\n",
    "\n",
    "env = DummyVecEnv([lambda: Monitor(PanEnv(size=100,distribution='Japan'),log_dir)])"
   ]
  },
  {
   "cell_type": "code",
   "execution_count": null,
   "id": "23774802",
   "metadata": {},
   "outputs": [],
   "source": []
  },
  {
   "cell_type": "code",
   "execution_count": null,
   "id": "49a3376c",
   "metadata": {},
   "outputs": [
    {
     "name": "stdout",
     "output_type": "stream",
     "text": [
      "Using cpu device\n",
      "Logging to ./ppo_name_tensorboard/first_run_78\n",
      "---------------------------------\n",
      "| rollout/           |          |\n",
      "|    cum_rew_1       | 0        |\n",
      "|    ep_len_mean     | 3.34     |\n",
      "|    ep_rew_mean     | 2.45     |\n",
      "| time/              |          |\n",
      "|    fps             | 79       |\n",
      "|    iterations      | 1        |\n",
      "|    time_elapsed    | 25       |\n",
      "|    total_timesteps | 2048     |\n",
      "---------------------------------\n"
     ]
    }
   ],
   "source": [
    "#env = Monitor(env,log_dir)\n",
    "model = PPO(\"MlpPolicy\", env, verbose=1,tensorboard_log=\"./ppo_name_tensorboard/\") #multilayer\n",
    "env = PanEnv(size=100,distribution='Japan');\n",
    "rewards_callback = TensorboardCallback()\n",
    "model.learn(total_timesteps=25000,tb_log_name=\"first_run\",callback=rewards_callback) #training loop\n",
    "\n",
    "#https://stable-baselines.readthedocs.io/en/master/guide/tensorboard.html?highlight=tensorboard\n",
    "#^^^ tensorboard for displaying things, but I am stuck, upd: i guess it works now ^^^"
   ]
  },
  {
   "cell_type": "code",
   "execution_count": null,
   "id": "e319510c",
   "metadata": {},
   "outputs": [],
   "source": [
    "model.save(\"Japan_economy_reward\")\n",
    "mean_reward, std_reward = evaluate_policy(model, env,n_eval_episodes=100)\n",
    "print(f\"mean_reward:{mean_reward:.2f} +/- {std_reward:.2f}\")"
   ]
  },
  {
   "cell_type": "code",
   "execution_count": null,
   "id": "aceac110",
   "metadata": {},
   "outputs": [],
   "source": [
    "model = PPO(\"MlpPolicy\", env, verbose=1,tensorboard_log=\"./ppo_name_tensorboard/\") #multilayer\n",
    "mean_reward, std_reward = evaluate_policy(model, env=PanEnv(size=100,distribution='Japan'), n_eval_episodes=100)\n",
    "print(f\"mean_reward:{mean_reward:.2f} +/- {std_reward:.2f}\")"
   ]
  },
  {
   "cell_type": "code",
   "execution_count": null,
   "id": "d62b7b18",
   "metadata": {},
   "outputs": [],
   "source": [
    "#after training, reward should have improved\n",
    "mean_reward, std_reward = evaluate_policy(Japan_death, env=PanEnv(size=100,distribution='Japan'), n_eval_episodes=100)\n",
    "print(f\"mean_reward:{mean_reward:.2f} +/- {std_reward:.2f}\")"
   ]
  },
  {
   "cell_type": "code",
   "execution_count": null,
   "id": "547e096d",
   "metadata": {},
   "outputs": [],
   "source": [
    "#model.save(\"Japan_death\")\n",
    "Japan_economy_reward = PPO.load(\"Japan_economy_reward\")"
   ]
  },
  {
   "cell_type": "code",
   "execution_count": null,
   "id": "964e4953",
   "metadata": {},
   "outputs": [],
   "source": [
    "env = PanEnv(size=100,distribution='Japan')\n",
    "#after training, reward should have improved\n",
    "log_dir = \"./gym/\"\n",
    "env = Monitor(env,log_dir)\n",
    "mean_reward, std_reward = evaluate_policy(Japan_death, env, n_eval_episodes=100)\n",
    "print(f\"mean_reward:{mean_reward:.2f} +/- {std_reward:.2f}\")"
   ]
  },
  {
   "cell_type": "code",
   "execution_count": null,
   "id": "7b91495c",
   "metadata": {},
   "outputs": [],
   "source": [
    "env = PanEnv(size=100,distribution='Japan')\n",
    "obs = env.reset()\n",
    "done = False\n",
    "obs_storage = []\n",
    "rewards_storage = []\n",
    "action_storage = []\n",
    "\n",
    "\n",
    "while not done:\n",
    "    action, _states = Japan_economy_reward.predict(obs)\n",
    "    \n",
    "    \n",
    "    obs, rewards, done, info = env.step(action)\n",
    "    obs_storage.append(obs)\n",
    "    infected = np.nonzero(obs[:,1])\n",
    "    l=np.size(infected)/100\n",
    "    print (l)\n",
    "    rewards_storage.append(rewards)\n",
    "    action_storage.append(action)\n",
    "\n",
    "from numpy import array\n",
    "from scipy.cluster.vq import vq, kmeans, whiten\n",
    "\n"
   ]
  },
  {
   "cell_type": "code",
   "execution_count": null,
   "id": "a00dcea4",
   "metadata": {},
   "outputs": [],
   "source": [
    "def get_sums(obs,index):\n",
    "    sums = []\n",
    "    for i in np.arange(0,len(obs)):\n",
    "        sums.append(np.sum(obs_storage[i][:,index]))\n",
    "    return sums\n",
    "def show_pandemic(obs):\n",
    "    all_sums = []\n",
    "    for i in np.arange(0,7):\n",
    "        all_sums.append(get_sums(obs,i))\n",
    "    sval,ival,rval,vsval,vival,dval,economy_list = all_sums[0],all_sums[1],all_sums[2],all_sums[3],all_sums[4],all_sums[5],all_sums[6]\n",
    "    tlist = np.arange(0,len(obs))\n",
    "    plt.figure()\n",
    "    plt.plot(tlist, sval, label = \"S\")\n",
    "    plt.plot(tlist, rval, label = \"R\")\n",
    "    plt.plot(tlist, vsval, label = \"Sv\")\n",
    "    plt.plot(tlist, vival, label = \"Iv\")\n",
    "    plt.plot(tlist, ival, label = \"I\")\n",
    "    plt.plot(tlist, dval, label = \"D\")\n",
    "    plt.plot(tlist,economy_list, label = \"Economy\")\n",
    "    plt.legend()\n",
    "    plt.show()\n",
    "def show_actions(actions):\n",
    "    eps = len(actions)\n",
    "    \n",
    "    color_pos = np.linspace(0,1,eps)\n",
    "    cmap = mpl.cm.get_cmap('inferno')\n",
    "    colors = [cmap(pos) for pos in color_pos]\n",
    "    \n",
    "    \n",
    "    plt.figure()\n",
    "    for i in np.arange(0,eps):\n",
    "        #hist = np.histogram(actions[i],bins = np.linspace(1,21,20))\n",
    "        plt.plot(np.linspace(1,21,20),actions[i]/np.sum(actions[i]),color=colors[i],label='t = str(i)')\n",
    "    plt.show()"
   ]
  },
  {
   "cell_type": "code",
   "execution_count": null,
   "id": "5f6dbe59",
   "metadata": {},
   "outputs": [],
   "source": [
    "print(len(action_storage))"
   ]
  },
  {
   "cell_type": "code",
   "execution_count": null,
   "id": "b1c7279f",
   "metadata": {},
   "outputs": [],
   "source": [
    "show_pandemic(obs_storage)\n",
    "show_actions(action_storage)"
   ]
  },
  {
   "cell_type": "code",
   "execution_count": null,
   "id": "5e815aa1",
   "metadata": {},
   "outputs": [],
   "source": [
    "#split into learning and testing\n",
    "model.learn(total_timesteps = 5000)\n",
    "# store/accumulate rewards"
   ]
  },
  {
   "cell_type": "code",
   "execution_count": null,
   "id": "b3bd4c81",
   "metadata": {},
   "outputs": [],
   "source": []
  }
 ],
 "metadata": {
  "celltoolbar": "Raw Cell Format",
  "kernelspec": {
   "display_name": "Python 3 (ipykernel)",
   "language": "python",
   "name": "python3"
  },
  "language_info": {
   "codemirror_mode": {
    "name": "ipython",
    "version": 3
   },
   "file_extension": ".py",
   "mimetype": "text/x-python",
   "name": "python",
   "nbconvert_exporter": "python",
   "pygments_lexer": "ipython3",
   "version": "3.9.7"
  }
 },
 "nbformat": 4,
 "nbformat_minor": 5
}
