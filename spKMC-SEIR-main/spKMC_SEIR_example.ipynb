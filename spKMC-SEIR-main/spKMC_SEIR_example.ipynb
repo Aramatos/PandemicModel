{
 "cells": [
  {
   "cell_type": "code",
   "execution_count": 28,
   "metadata": {},
   "outputs": [],
   "source": [
    "import graph_tool.all as gt\n",
    "import numpy as np\n",
    "from numpy.random import poisson\n",
    "import time\n",
    "from heapq import heappush, heappop\n",
    "import matplotlib.pyplot as plt\n",
    "from spKMC import *"
   ]
  },
  {
   "cell_type": "code",
   "execution_count": 29,
   "metadata": {},
   "outputs": [
    {
     "name": "stdout",
     "output_type": "stream",
     "text": [
      "0, 1, 2, 3, 4, 5, 6, 7, 8, 9, 10, 11, 12, 13, 14, 15, 16, 17, 18, 19, 20, 21, 22, 23, 24, 25, 26, 27, 28, 29, 30, 31, 32, 33, 34, 35, 36, 37, 38, 39, 40, 41, 42, 43, 44, 45, 46, 47, 48, 49, 50, 51, 52, 53, 54, 55, 56, 57, 58, 59, 60, 61, 62, 63, 64, 65, 66, 67, 68, 69, 70, 71, 72, 73, 74, 75, 76, 77, 78, 79, 80, 81, 82, 83, 84, 85, 86, 87, 88, 89, 90, 91, 92, 93, 94, 95, 96, 97, 98, 99, "
     ]
    }
   ],
   "source": [
    "T = 365 #time\n",
    "T_granularity = 1\n",
    "N=10**4 #number of nodes\n",
    "g = gt.random_graph(N, lambda: (poisson(3), poisson(3)))\n",
    "num_sim = 10**2 #simulations\n",
    "#gamma = 1/14 day^-1; alpha = 1/5 day^-1; beta = 3/14 day^-1 from lucas \n",
    "epi_params = {\"alpha\":1/5, \"beta\": 3/14,\"gamma\":1/14}\n",
    "\n",
    "S_dynamics = np.zeros((num_sim,T))\n",
    "E_dynamics = np.zeros((num_sim,T))\n",
    "I_dynamics = np.zeros((num_sim,T))\n",
    "R_dynamics = np.zeros((num_sim,T))\n",
    "t_dynamics = np.asarray(range(0,T))\n",
    "\n",
    "for x in range(num_sim):\n",
    "    print(f\"%d,\" %x, end =\" \")\n",
    "    dynamics_hidden_state = spKMC_SEIR_full_state(g_base__ = g, epi_params__= epi_params, source__=0)\n",
    "    state_res = event_driven_state_extraction(dynamics_hidden_state, T)\n",
    "    \n",
    "    S_dynamics[x,:]= state_res[\"S\"]\n",
    "    E_dynamics[x,:]= state_res[\"E\"]\n",
    "    I_dynamics[x,:]= state_res[\"I\"]\n",
    "    R_dynamics[x,:]= state_res[\"R\"]"
   ]
  },
  {
   "cell_type": "code",
   "execution_count": 30,
   "metadata": {},
   "outputs": [
    {
     "data": {
      "text/plain": [
       "<matplotlib.legend.Legend at 0x7f61740f3160>"
      ]
     },
     "execution_count": 30,
     "metadata": {},
     "output_type": "execute_result"
    },
    {
     "data": {
      "image/png": "[encoded data removed]",
      "text/plain": [
       "<Figure size 432x288 with 1 Axes>"
      ]
     },
     "metadata": {
      "needs_background": "light"
     },
     "output_type": "display_data"
    }
   ],
   "source": [
    "\n",
    "plt.plot(np.mean(I_dynamics, axis=0))\n",
    "plt.plot(np.mean(E_dynamics,axis=0))\n",
    "plt.plot(np.mean(R_dynamics, axis=0))\n",
    "plt.plot(np.mean(S_dynamics,axis=0))\n",
    "plt.legend(\"IERS\")\n"
   ]
  },
  {
   "cell_type": "code",
   "execution_count": null,
   "metadata": {},
   "outputs": [],
   "source": []
  },
  {
   "cell_type": "code",
   "execution_count": null,
   "metadata": {},
   "outputs": [],
   "source": []
  },
  {
   "cell_type": "code",
   "execution_count": null,
   "metadata": {},
   "outputs": [],
   "source": []
  }
 ],
 "metadata": {
  "kernelspec": {
   "display_name": "Python 3 (ipykernel)",
   "language": "python",
   "name": "python3"
  },
  "language_info": {
   "codemirror_mode": {
    "name": "ipython",
    "version": 3
   },
   "file_extension": ".py",
   "mimetype": "text/x-python",
   "name": "python",
   "nbconvert_exporter": "python",
   "pygments_lexer": "ipython3",
   "version": "3.9.7"
  }
 },
 "nbformat": 4,
 "nbformat_minor": 4
}
